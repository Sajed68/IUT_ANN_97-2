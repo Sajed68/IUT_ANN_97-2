{
 "cells": [
  {
   "cell_type": "markdown",
   "metadata": {},
   "source": [
    "# Modules and Packages\n",
    "<h1 style='direction:rtl;text-align:justify;font-family:\"B Zar\"'>\n",
    "ماژول‌ها و بسته‌ها\n",
    "</h1>\n",
    "<p  style='direction:rtl;text-align:justify;font-family:\"B Zar\";font-size:14pt;line-height:1.3.pt'>\n",
    "در این بخش به طور خلاصه در مورد ۱- نوشتن یک ماژول ساده و اضافه کردن آن به کد پایتون، ۲- اجرای کد پایتون در یک سلول ژوپیتر و ۳- نشان دادن این که می‌توانیم یک سری ورودی را به فایل اسکریپت پایتون بدهیم بحث خواهیم. کرد.\n",
    "</p>"
   ]
  },
  {
   "cell_type": "markdown",
   "metadata": {},
   "source": [
    "<p  style='direction:rtl;text-align:justify;font-family:\"B Zar\";font-size:14pt;line-height:1.3.pt'>\n",
    "<b>\n",
    "اول ببنیم که یک ماژول چی هست؟\n",
    "</b>\n",
    "</p>\n",
    "<p  style='direction:rtl;text-align:justify;font-family:\"B Zar\";font-size:14pt;line-height:1.3.pt'>\n",
    "ماژول‌ها در حقیقت یک فایل هستند که درون آن‌ها توابع، تعاریف و دستورات مربوط به یک کاربرد خاص قرار دارد. و ما با اضافه کردن اون ماژول به برنامه خود، توانایی‌های جدید به کدمان اضافه می‌کنیم!\n",
    "</p>\n",
    "<p  style='direction:rtl;text-align:justify;font-family:\"B Zar\";font-size:14pt;line-height:1.3.pt'>\n",
    "ما از ماژول‌ها به این دلیل استفاده می‌کنیم که یک مجموعه بزرگ از عملکردها را خلاصه و در دسترس و مدیریت پذیر کنیم. یعنی فرض کنید تعداد زیادی تابع را که عملکردی مرتبط دارند را به صورت منظم دسته بندی و استفاده کنید.\n",
    "یک فایل متنی باز کنید و درون آن دستوراتی را بنویسید. پسوند فایل را به \n",
    "<code style='direction:ltr;text-align:justify;font-family:\"Tahoma\";font-size:12pt;line-height:1.3.pt'> .py </code> \n",
    "تغییر دهید، مثلا فایل \n",
    "<code style='direction:ltr;text-align:justify;font-family:\"Tahoma\";font-size:12pt;line-height:1.3.pt'> module1.py </code> \n",
    "را در نظر بگیرید. در ژوپیتر نوت‌بوک برای این که بتوانید یک سلول را درون یک فایل متنی بنویسید، کد زیر را ابتدای سلول قرار دهید:\n",
    "</p>\n",
    "\n",
    "```python\n",
    "%%writefile module1.py\n",
    "```"
   ]
  },
  {
   "cell_type": "code",
   "execution_count": 2,
   "metadata": {},
   "outputs": [
    {
     "name": "stdout",
     "output_type": "stream",
     "text": [
      "Overwriting module1.py\n"
     ]
    }
   ],
   "source": [
    "%%writefile module1.py\n",
    "# Python Module example\n",
    "def add(a, b):\n",
    "    \"\"\"This program adds two\n",
    "    numbers and return the result\"\"\"\n",
    "    \n",
    "    result = a + b\n",
    "    return result"
   ]
  },
  {
   "cell_type": "code",
   "execution_count": 3,
   "metadata": {},
   "outputs": [
    {
     "ename": "NameError",
     "evalue": "name 'add' is not defined",
     "output_type": "error",
     "traceback": [
      "\u001b[0;31m---------------------------------------------------------------------------\u001b[0m",
      "\u001b[0;31mNameError\u001b[0m                                 Traceback (most recent call last)",
      "\u001b[0;32m<ipython-input-3-9cd3bc5fb6d1>\u001b[0m in \u001b[0;36m<module>\u001b[0;34m()\u001b[0m\n\u001b[0;32m----> 1\u001b[0;31m \u001b[0madd\u001b[0m\u001b[0;34m(\u001b[0m\u001b[0;36m2\u001b[0m\u001b[0;34m,\u001b[0m\u001b[0;36m3\u001b[0m\u001b[0;34m)\u001b[0m\u001b[0;34m\u001b[0m\u001b[0;34m\u001b[0m\u001b[0m\n\u001b[0m",
      "\u001b[0;31mNameError\u001b[0m: name 'add' is not defined"
     ]
    }
   ],
   "source": [
    "add(2,3)"
   ]
  },
  {
   "cell_type": "markdown",
   "metadata": {},
   "source": [
    "<p  style='direction:rtl;text-align:justify;font-family:\"B Zar\";font-size:14pt;line-height:1.3.pt'>\n",
    "<b>\n",
    "حالا یه ماژول داریم، چطور از آن استفاده کنیم؟\n",
    "</b>\n",
    "</p>\n",
    "<p  style='direction:rtl;text-align:justify;font-family:\"B Zar\";font-size:14pt;line-height:1.3.pt'>\n",
    "ما می‌توانید آنچه را که درون این ماژول نوشته شده است را با دستور \n",
    "<code style='direction:ltr;text-align:justify;font-family:\"Tahoma\";font-size:12pt;line-height:1.3.pt'>import</code> \n",
    "به برنامه اضافه کنیم.\n",
    "</p>"
   ]
  },
  {
   "cell_type": "code",
   "execution_count": 4,
   "metadata": {},
   "outputs": [],
   "source": [
    "import module1"
   ]
  },
  {
   "cell_type": "code",
   "execution_count": 5,
   "metadata": {},
   "outputs": [
    {
     "ename": "NameError",
     "evalue": "name 'add' is not defined",
     "output_type": "error",
     "traceback": [
      "\u001b[0;31m---------------------------------------------------------------------------\u001b[0m",
      "\u001b[0;31mNameError\u001b[0m                                 Traceback (most recent call last)",
      "\u001b[0;32m<ipython-input-5-9cd3bc5fb6d1>\u001b[0m in \u001b[0;36m<module>\u001b[0;34m()\u001b[0m\n\u001b[0;32m----> 1\u001b[0;31m \u001b[0madd\u001b[0m\u001b[0;34m(\u001b[0m\u001b[0;36m2\u001b[0m\u001b[0;34m,\u001b[0m\u001b[0;36m3\u001b[0m\u001b[0;34m)\u001b[0m\u001b[0;34m\u001b[0m\u001b[0;34m\u001b[0m\u001b[0m\n\u001b[0m",
      "\u001b[0;31mNameError\u001b[0m: name 'add' is not defined"
     ]
    }
   ],
   "source": [
    "add(2,3)"
   ]
  },
  {
   "cell_type": "code",
   "execution_count": 6,
   "metadata": {},
   "outputs": [
    {
     "data": {
      "text/plain": [
       "5"
      ]
     },
     "execution_count": 6,
     "metadata": {},
     "output_type": "execute_result"
    }
   ],
   "source": [
    "module1.add(2,3)"
   ]
  },
  {
   "cell_type": "markdown",
   "metadata": {},
   "source": [
    "<p  style='direction:rtl;text-align:justify;font-family:\"B Zar\";font-size:14pt;line-height:1.3.pt'>\n",
    "<b>\n",
    "لازم هست وقتی می‌خواهیم از تابع \n",
    "add \n",
    "استفاده کنیم، حتما بایداسم ماژول را هم بنویسیم.\n",
    "</b>\n",
    "</p>\n",
    "<p  style='direction:rtl;text-align:justify;font-family:\"B Zar\";font-size:14pt;line-height:1.3.pt'>\n",
    "برای این که همه چیز تحت کنترل باشد، بهتر است که اینطور باشد، در پایتون ماژول‌های خیلی زیادی هست که شاید این تابعی که در این ماژول تعریف کرده‌ایم، در ماژول‌های دیگر هم بکار رفته باشد، در این صورت برای جلوگیری از تداخل و سردرگمی این کار بهترین کار است.\n",
    "</p>\n",
    "\n",
    "> ```python\n",
    "module_name.function_name(args)\n",
    "```\n",
    "\n",
    "<p  style='direction:rtl;text-align:justify;font-family:\"B Zar\";font-size:14pt;line-height:1.3.pt'>\n",
    "یک راه دیگر هم هست که خودتان را راحت کنید و فقط نام تابع را بنویسید، ولی خب حواستان باشد که ممکن است توابعی که از این ماژول وارد برنامه می‌شوند، جایگزین توابع هم‌نامی شوند که پیش از این در برنامه بودند.\n",
    "</p>\n",
    "\n",
    "> ```python\n",
    "from module_name import function_name\n",
    "from module_name import *\n",
    "```\n",
    "\n",
    "<p  style='direction:rtl;text-align:justify;font-family:\"B Zar\";font-size:14pt;line-height:1.3.pt'>\n",
    "به نظر میاد که نوشتن اسم تابع یا ماژول سخت یا حوصله سر بر باشد! دستور \n",
    "import \n",
    "فکر این را هم کرده است!\n",
    "</p>\n",
    "  \n",
    "\n",
    "```python\n",
    "# rename the module:\n",
    "import math as mt\n",
    "from matplotlib import pyplot as plt\n",
    "```"
   ]
  },
  {
   "cell_type": "markdown",
   "metadata": {},
   "source": [
    "<p  style='direction:rtl;text-align:justify;font-family:\"B Zar\";font-size:14pt;line-height:1.3.pt'>\n",
    "بگذارید ماژول خود را تغییر دهیم و به آن چند متغیر و تابع اضافه کنیم.\n",
    "</p>"
   ]
  },
  {
   "cell_type": "code",
   "execution_count": 7,
   "metadata": {},
   "outputs": [
    {
     "name": "stdout",
     "output_type": "stream",
     "text": [
      "Overwriting module1.py\n"
     ]
    }
   ],
   "source": [
    "%%writefile module1.py\n",
    "# Python Module example\n",
    "def add(a, b):\n",
    "    \"\"\"This program adds two\n",
    "    numbers and return the result\"\"\"\n",
    "    \n",
    "    result = a + b\n",
    "    return result\n",
    "\n",
    "\n",
    "def subtract(a, b):\n",
    "    \"\"\"This program subtracts two\n",
    "    numbers and return the results\"\"\"\n",
    "    \n",
    "    result = a - b\n",
    "    return result\n",
    "\n",
    "\n",
    "the_variable = 1\n",
    "variable1 = 2"
   ]
  },
  {
   "cell_type": "code",
   "execution_count": 8,
   "metadata": {},
   "outputs": [],
   "source": [
    "from module1 import add"
   ]
  },
  {
   "cell_type": "code",
   "execution_count": 9,
   "metadata": {},
   "outputs": [
    {
     "data": {
      "text/plain": [
       "5"
      ]
     },
     "execution_count": 9,
     "metadata": {},
     "output_type": "execute_result"
    }
   ],
   "source": [
    "add(2,3)"
   ]
  },
  {
   "cell_type": "code",
   "execution_count": 10,
   "metadata": {},
   "outputs": [
    {
     "ename": "NameError",
     "evalue": "name 'subtract' is not defined",
     "output_type": "error",
     "traceback": [
      "\u001b[0;31m---------------------------------------------------------------------------\u001b[0m",
      "\u001b[0;31mNameError\u001b[0m                                 Traceback (most recent call last)",
      "\u001b[0;32m<ipython-input-10-631ae9686a8c>\u001b[0m in \u001b[0;36m<module>\u001b[0;34m()\u001b[0m\n\u001b[0;32m----> 1\u001b[0;31m \u001b[0msubtract\u001b[0m\u001b[0;34m(\u001b[0m\u001b[0;36m3\u001b[0m\u001b[0;34m,\u001b[0m\u001b[0;36m2\u001b[0m\u001b[0;34m)\u001b[0m\u001b[0;34m\u001b[0m\u001b[0;34m\u001b[0m\u001b[0m\n\u001b[0m",
      "\u001b[0;31mNameError\u001b[0m: name 'subtract' is not defined"
     ]
    }
   ],
   "source": [
    "subtract(3,2)"
   ]
  },
  {
   "cell_type": "code",
   "execution_count": 11,
   "metadata": {},
   "outputs": [
    {
     "ename": "AttributeError",
     "evalue": "module 'module1' has no attribute 'subtract'",
     "output_type": "error",
     "traceback": [
      "\u001b[0;31m---------------------------------------------------------------------------\u001b[0m",
      "\u001b[0;31mAttributeError\u001b[0m                            Traceback (most recent call last)",
      "\u001b[0;32m<ipython-input-11-dc5f08ed04f4>\u001b[0m in \u001b[0;36m<module>\u001b[0;34m()\u001b[0m\n\u001b[0;32m----> 1\u001b[0;31m \u001b[0mmodule1\u001b[0m\u001b[0;34m.\u001b[0m\u001b[0msubtract\u001b[0m\u001b[0;34m(\u001b[0m\u001b[0;36m3\u001b[0m\u001b[0;34m,\u001b[0m\u001b[0;36m2\u001b[0m\u001b[0;34m)\u001b[0m\u001b[0;34m\u001b[0m\u001b[0;34m\u001b[0m\u001b[0m\n\u001b[0m",
      "\u001b[0;31mAttributeError\u001b[0m: module 'module1' has no attribute 'subtract'"
     ]
    }
   ],
   "source": [
    "module1.subtract(3,2)"
   ]
  },
  {
   "cell_type": "markdown",
   "metadata": {},
   "source": [
    "<p  style='direction:rtl;text-align:justify;font-family:\"B Zar\";font-size:14pt;line-height:1.3.pt'>\n",
    "ما از این ماژول فقط یک تابع را وارد برنامه کردیم و فقط همان در دسترس ما است. \n",
    "</p>"
   ]
  },
  {
   "cell_type": "code",
   "execution_count": 12,
   "metadata": {},
   "outputs": [],
   "source": [
    "import module1"
   ]
  },
  {
   "cell_type": "code",
   "execution_count": 13,
   "metadata": {},
   "outputs": [
    {
     "ename": "AttributeError",
     "evalue": "module 'module1' has no attribute 'subtract'",
     "output_type": "error",
     "traceback": [
      "\u001b[0;31m---------------------------------------------------------------------------\u001b[0m",
      "\u001b[0;31mAttributeError\u001b[0m                            Traceback (most recent call last)",
      "\u001b[0;32m<ipython-input-13-dc5f08ed04f4>\u001b[0m in \u001b[0;36m<module>\u001b[0;34m()\u001b[0m\n\u001b[0;32m----> 1\u001b[0;31m \u001b[0mmodule1\u001b[0m\u001b[0;34m.\u001b[0m\u001b[0msubtract\u001b[0m\u001b[0;34m(\u001b[0m\u001b[0;36m3\u001b[0m\u001b[0;34m,\u001b[0m\u001b[0;36m2\u001b[0m\u001b[0;34m)\u001b[0m\u001b[0;34m\u001b[0m\u001b[0;34m\u001b[0m\u001b[0m\n\u001b[0m",
      "\u001b[0;31mAttributeError\u001b[0m: module 'module1' has no attribute 'subtract'"
     ]
    }
   ],
   "source": [
    "module1.subtract(3,2)"
   ]
  },
  {
   "cell_type": "markdown",
   "metadata": {},
   "source": [
    "<p  style='direction:rtl;text-align:justify;font-family:\"B Zar\";font-size:14pt;line-height:1.3.pt'>\n",
    "<b>\n",
    "الان چه اتفاقی افتاد به نظرتان؟\n",
    "</b>\n",
    "</p>\n",
    "<p  style='direction:rtl;text-align:justify;font-family:\"B Zar\";font-size:14pt;line-height:1.3.pt'>\n",
    "ما یک بار قبلا ماژول یک را به برنامه اضافه کرده بودیم. و در ادامه ماژول را تغییر دادیم. و دوباره آن را وارد کردیم، اما دستورات جدید آن وارد برنامه نشدند! علتش این است که مفسر پایتون ماژول‌ها را یک بار بیشتر به برنامه اضافه نمی‌کند. و این صرفا برای سرعت بخشیدن به کار است.\n",
    "حال اگر ماژول در حین یک نشست تغییر کرده باشد، بنابراین نیاز است که آن را بازخوانی کرد. این کار با استفاده از دستور \n",
    "<code style='direction:ltr;text-align:justify;font-family:\"Tahoma\";font-size:12pt;line-height:1.3.pt'>reload</code> \n",
    "از ماژول \n",
    "<code style='direction:ltr;text-align:justify;font-family:\"Tahoma\";font-size:12pt;line-height:1.3.pt'>imp</code> \n",
    "انجام می‌شود.\n",
    "</p>"
   ]
  },
  {
   "cell_type": "code",
   "execution_count": 15,
   "metadata": {},
   "outputs": [],
   "source": [
    "import imp"
   ]
  },
  {
   "cell_type": "code",
   "execution_count": 16,
   "metadata": {},
   "outputs": [
    {
     "data": {
      "text/plain": [
       "<module 'module1' from '/home/anncourse/Desktop/python_class/Complete-Python-3-Bootcamp/06-Modules and Packages/module1.py'>"
      ]
     },
     "execution_count": 16,
     "metadata": {},
     "output_type": "execute_result"
    }
   ],
   "source": [
    "imp.reload(module=module1)"
   ]
  },
  {
   "cell_type": "code",
   "execution_count": 17,
   "metadata": {},
   "outputs": [
    {
     "data": {
      "text/plain": [
       "3"
      ]
     },
     "execution_count": 17,
     "metadata": {},
     "output_type": "execute_result"
    }
   ],
   "source": [
    "module1.subtract(5,2)"
   ]
  },
  {
   "cell_type": "code",
   "execution_count": 18,
   "metadata": {},
   "outputs": [
    {
     "data": {
      "text/plain": [
       "1"
      ]
     },
     "execution_count": 18,
     "metadata": {},
     "output_type": "execute_result"
    }
   ],
   "source": [
    "module1.the_variable"
   ]
  },
  {
   "cell_type": "markdown",
   "metadata": {},
   "source": [
    "<p  style='direction:rtl;text-align:justify;font-family:\"B Zar\";font-size:14pt;line-height:1.3.pt'>\n",
    "<b>\n",
    "حال بیایید در مورد بسته‌ها صحبت کنیم.\n",
    "</b>\n",
    "</p>\n",
    "<p  style='direction:rtl;text-align:justify;font-family:\"B Zar\";font-size:14pt;line-height:1.3.pt'>\n",
    "ممکن است در یک کاربرد خاص، مثلا حل مسائل ریاضی، نیاز به ماژول‌های مختلف داشته باشیم. در هر ماژول ابزارهای مختلفی هستند، مثلا در یک ماژول روابط مربوط به ماتریس‌ها و عملیات ماتریسی. در ماژول دیگر الگوریتم‌های ریاضی که از ماتریس‌ها استفاده می‌کنند. اما مسأله‌ای که وجود دارد این است که این ماژول‌ها نیز به هم مرتبط هستند. بجای این که هر کدام آن‌ها جداگانه یک گوشه روی رایانه ذخیره شوند، در ساختار آبشاری منظمی از پوشه‌ها قرار می‌گیرند که به آن بسته یا \n",
    "package \n",
    "می‌گوییم.\n",
    "</p>"
   ]
  },
  {
   "cell_type": "markdown",
   "metadata": {},
   "source": [
    "<p  style='direction:rtl;text-align:justify;font-family:\"B Zar\";font-size:14pt;line-height:1.3.pt'>\n",
    "یک بسته خیلی بزرگ مانند \n",
    "numpy \n",
    "می‌تواند شامل هزاران ماژول شود. \n",
    "</p>"
   ]
  },
  {
   "cell_type": "markdown",
   "metadata": {},
   "source": [
    "<p  style='direction:rtl;text-align:justify;font-family:\"B Zar\";font-size:14pt;line-height:1.3.pt'>\n",
    "<b>\n",
    "بسته‌هاو ماژول‌ها را از کجا پیدا کنیم؟\n",
    "</b>\n",
    "</p>\n",
    "<p  style='direction:rtl;text-align:justify;font-family:\"B Zar\";font-size:14pt;line-height:1.3.pt'>\n",
    "یکسری از ماژول‌ها به صورت از پیش آماده در همراه نصب پایتون موجود هستند:\n",
    "</p>\n",
    "\n",
    "* sys\n",
    "* os\n",
    "* random\n",
    "* ...\n",
    "\n",
    "<p  style='direction:rtl;text-align:justify;font-family:\"B Zar\";font-size:14pt;line-height:1.3.pt'>\n",
    "را دیگر این است که در اینترنت بگردید و آنچه را که نیاز دارید را پیدا کنید. اما پیش‌تر از آن با جای معتبرتری به نام مخزن \n",
    "<code style='direction:ltr;text-align:justify;font-family:\"Tahoma\";font-size:12pt;line-height:1.3.pt'>pypi</code> \n",
    "آشنا شدیم. یکسری از بسته‌های مورد نیاز زیر را نصب کنید.\n",
    "</p>\n"
   ]
  },
  {
   "cell_type": "markdown",
   "metadata": {},
   "source": [
    "pip install spyder  \n",
    "pip install numpy  \n",
    "pip install scipy  \n",
    "pip install sklearn  \n",
    "pip install matplotlib  "
   ]
  },
  {
   "cell_type": "code",
   "execution_count": 19,
   "metadata": {},
   "outputs": [
    {
     "name": "stdout",
     "output_type": "stream",
     "text": [
      "Requirement already satisfied: matplotlib in /usr/lib/python2.7/dist-packages (2.2.3)\r\n"
     ]
    }
   ],
   "source": [
    "!pip install --user matplotlib"
   ]
  },
  {
   "cell_type": "markdown",
   "metadata": {},
   "source": [
    "<p style='direction:ltr;text-align:justify;font-family:\"Tahoma\";font-size:12pt;line-height:1.3.pt'>\n",
    "در ادامه به طور مختصر با برخی از این بسته‌ها آشنا خواهیم شد...\n",
    "</p>"
   ]
  }
 ],
 "metadata": {
  "kernelspec": {
   "display_name": "Python 3",
   "language": "python",
   "name": "python3"
  },
  "language_info": {
   "codemirror_mode": {
    "name": "ipython",
    "version": 3
   },
   "file_extension": ".py",
   "mimetype": "text/x-python",
   "name": "python",
   "nbconvert_exporter": "python",
   "pygments_lexer": "ipython3",
   "version": "3.7.3"
  }
 },
 "nbformat": 4,
 "nbformat_minor": 2
}
