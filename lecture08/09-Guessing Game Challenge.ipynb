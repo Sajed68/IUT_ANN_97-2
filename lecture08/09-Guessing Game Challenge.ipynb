{
 "cells": [
  {
   "cell_type": "markdown",
   "metadata": {},
   "source": [
    "<h1 style='direction:rtl;text-align:right;font-size:20pt;font-family:\"B Koodak\"'>\n",
    "بیایید یک بازی ساده انجام بدیم!\n",
    "</h1>\n",
    "\n",
    "<p style='direction:rtl;text-align:right;font-size:14pt;font-family:\"B Koodak\"'>\n",
    "از حلقه \n",
    "while \n",
    "برای نوشتن یک بازی «حدس عدد» استفاده کنید.  \n",
    "چالش به این صورت هست که:  \n",
    "یک برنامه می‌نویسید که یک عدد تصادفی بین صفر تا ۱۰۰ تولید کند و بازی کن حدس بزند که چه عددی بوده. قواعد بازی به شرح زیر هست:\n",
    "</p>\n",
    "\n",
    "<ol style='direction:rtl;text-align:right;font-size:14pt;font-family:\"B Koodak\"'>\n",
    "    <li>\n",
    "    اگر بازیکن عددی کمتر از یک یا بیشتر از ۱۰۰ حدس زد، هشدار داده شود که :\n",
    "    <mark style='background-color:rgb(200,200,200)'>\n",
    "    داری اشتباه می‌زنی!    \n",
    "    </mark>\n",
    "    </li>\n",
    "    <li>\n",
    "    در حرکت اول بازیکن، \n",
    "        <ul>\n",
    "            <li>\n",
    "                اگر حدس اول، فاصله کمتر از ۱۰ بود، عبارت \n",
    "                <mark style='background-color:rgb(200,200,200)'>\n",
    "                    گرم!\n",
    "                </mark>\n",
    "                را برگرداند.\n",
    "            </li>\n",
    "            <li>\n",
    "                اگر بیشتر از ۱۰ فاصله داشت، عبارت \n",
    "                <mark style='background-color:rgb(200,200,200)'>\n",
    "                    سرد!\n",
    "                </mark>\n",
    "                را برگرداند.\n",
    "            </li>\n",
    "        </ul>\n",
    "    </li>\n",
    "    <li>\n",
    "    در تمام حرکات بازیکن:\n",
    "        <ul>\n",
    "            <li>\n",
    "                اگر حدس جدید از حدس قبلی نزدیک‌تر بود، جواب «گرمتر» باشد\n",
    "            </li>\n",
    "            <li>\n",
    "                اگر حدس جدید از حدس قبلی دورتر باشد، جواب «سردتر» باشد.\n",
    "            </li>\n",
    "            </ul>\n",
    "    </li>\n",
    "    <li>\n",
    "        اگر حدس همان جواب بود، برنامه پاسخ دهد که این جواب درست بوده و این که طی چند گام به جواب رسیده.\n",
    "    </li>\n",
    "</ol>\n"
   ]
  },
  {
   "cell_type": "markdown",
   "metadata": {},
   "source": [
    "#### First, pick a random integer from 1 to 100 using the random module and assign it to a variable\n",
    "\n",
    "Note: `random.randint(a,b)` returns a random integer in range `[a, b]`, including both end points.  \n",
    "if you need help, use:\n",
    "```python\n",
    "help(random.randint)\n",
    "```"
   ]
  },
  {
   "cell_type": "code",
   "execution_count": 1,
   "metadata": {},
   "outputs": [],
   "source": [
    "import random\n",
    "secret = random.randint(1, 100)"
   ]
  },
  {
   "cell_type": "markdown",
   "metadata": {},
   "source": [
    "#### Next, print an introduction to the game and explain the rules"
   ]
  },
  {
   "cell_type": "code",
   "execution_count": null,
   "metadata": {},
   "outputs": [],
   "source": [
    "print(\"Welcome to guess number game\")\n",
    "print(\"Rule1\")\n",
    "print(\"Rule2\")"
   ]
  },
  {
   "cell_type": "markdown",
   "metadata": {},
   "source": [
    "#### Create a list to store guesses\n",
    "\n",
    "Hint: zero is a good placeholder value. It's useful because it evaluates to \"False\""
   ]
  },
  {
   "cell_type": "code",
   "execution_count": null,
   "metadata": {},
   "outputs": [],
   "source": [
    "score = []\n",
    "guesses = []"
   ]
  },
  {
   "cell_type": "markdown",
   "metadata": {},
   "source": [
    "#### Write a `while` loop that asks for a valid guess. Test it a few times to make sure it works."
   ]
  },
  {
   "cell_type": "code",
   "execution_count": null,
   "metadata": {},
   "outputs": [],
   "source": [
    "# get a number as input NOT String!\n",
    "input('guess a number: ')"
   ]
  },
  {
   "cell_type": "code",
   "execution_count": 2,
   "metadata": {},
   "outputs": [],
   "source": [
    "# get input and check it's valid\n",
    "i = 0\n",
    "while i < 10:\n",
    "    # do somthing\"\n",
    "    \n",
    "    i += 1"
   ]
  },
  {
   "cell_type": "markdown",
   "metadata": {},
   "source": [
    "#### Write a `while` loop that compares the player's guess to our number. If the player guesses correctly, break from the loop. Otherwise, tell the player if they're warmer or colder, and continue asking for guesses.\n",
    "\n",
    "Some hints:\n",
    "* it may help to sketch out all possible combinations on paper first!\n",
    "* you can use the `abs()` function to find the positive difference between two numbers\n",
    "* if you append all new guesses to the list, then the previous guess is given as `guesses[-2]`"
   ]
  },
  {
   "cell_type": "code",
   "execution_count": null,
   "metadata": {},
   "outputs": [],
   "source": [
    "# make things together!\n",
    "while True:\n",
    "    pass "
   ]
  },
  {
   "cell_type": "code",
   "execution_count": null,
   "metadata": {},
   "outputs": [],
   "source": [
    "len(guesses)"
   ]
  },
  {
   "cell_type": "markdown",
   "metadata": {},
   "source": [
    "That's it! You've just programmed your first game!\n",
    "\n",
    "In the next section we'll learn how to turn some of these repetitive actions into *functions* that can be called whenever we need them."
   ]
  },
  {
   "cell_type": "markdown",
   "metadata": {},
   "source": [
    "### Good Job!"
   ]
  }
 ],
 "metadata": {
  "kernelspec": {
   "display_name": "Python 3",
   "language": "python",
   "name": "python3"
  },
  "language_info": {
   "codemirror_mode": {
    "name": "ipython",
    "version": 3
   },
   "file_extension": ".py",
   "mimetype": "text/x-python",
   "name": "python",
   "nbconvert_exporter": "python",
   "pygments_lexer": "ipython3",
   "version": "3.7.3"
  }
 },
 "nbformat": 4,
 "nbformat_minor": 2
}
