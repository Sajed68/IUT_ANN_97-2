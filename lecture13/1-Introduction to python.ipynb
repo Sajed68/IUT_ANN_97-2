{
 "cells": [
  {
   "cell_type": "code",
   "execution_count": 2,
   "metadata": {},
   "outputs": [
    {
     "name": "stdout",
     "output_type": "stream",
     "text": [
      "\n",
      "زیبایی بهتر از زشت بودن است.\n",
      "روشنی بهتر از پشت پرده بودن است.\n",
      "سادگی بهتر از پیچیدگی‌ست.\n",
      "همواری بهتر از بلندا است.\n",
      "کم‌پشت بودن بهتر از انبوه است.\n",
      "خوانایی را می‌شماریم...\n",
      "ویژه‌ها آن‌قدر ویژه نیستند که قوانین را زیر پا بگذارند.\n",
      "اگرچه کار عملیاتی خلوص را از بین می‌برد.\n",
      "خطاها هیچ وقت ساکت نمی‌شوند، هرچند که به روشنی ساکت باشند.\n",
      "باید حتما یک راه واضح و ترجیحا همان یک راه برای انجام باشد.\n",
      "اگرچه در نگاه اول شاید واضح نباشد، اگر شما هلندی باشید!\n",
      "حالا بهتر است از هرگز\n",
      "هرچند که هرگز بهتر است از «درست» همین الان.\n",
      "اگر پیاده سازی سخت باشد برای بیان، پس فکر بدی است.\n",
      "اگر پیاده سازی آسان باشد برای بیان، چه فکر خوبی است.\n",
      "فضاهای نام عجب ایده‌های خوبی هستند، بیاید بیشتر از آن‌ها بهره ببریم.\n",
      "\n",
      "\n"
     ]
    }
   ],
   "source": [
    "import این"
   ]
  },
  {
   "cell_type": "code",
   "execution_count": 1,
   "metadata": {},
   "outputs": [
    {
     "name": "stdout",
     "output_type": "stream",
     "text": [
      "The Zen of Python, by Tim Peters\n",
      "\n",
      "Beautiful is better than ugly.\n",
      "Explicit is better than implicit.\n",
      "Simple is better than complex.\n",
      "Complex is better than complicated.\n",
      "Flat is better than nested.\n",
      "Sparse is better than dense.\n",
      "Readability counts.\n",
      "Special cases aren't special enough to break the rules.\n",
      "Although practicality beats purity.\n",
      "Errors should never pass silently.\n",
      "Unless explicitly silenced.\n",
      "In the face of ambiguity, refuse the temptation to guess.\n",
      "There should be one-- and preferably only one --obvious way to do it.\n",
      "Although that way may not be obvious at first unless you're Dutch.\n",
      "Now is better than never.\n",
      "Although never is often better than *right* now.\n",
      "If the implementation is hard to explain, it's a bad idea.\n",
      "If the implementation is easy to explain, it may be a good idea.\n",
      "Namespaces are one honking great idea -- let's do more of those!\n"
     ]
    }
   ],
   "source": [
    "import this"
   ]
  },
  {
   "cell_type": "markdown",
   "metadata": {},
   "source": [
    "------------------------------------\n",
    "#### دوره خیلی کوتاه آموزشی پایتون\n",
    "<p style='direction:rtl;text-align:justify'>\n",
    "<b> \n",
    "پایتون چه مزایایی دارد؟\n",
    "</b>\n",
    "</p>\n",
    "\n",
    "* دستورالعمل آسان\n",
    "* زبان مهندسی براساس نظر IEEE Spectrum\n",
    "* زبان مناسب برای علوم داده و هوش مصنوعی از دید انتشارات packtpub\n",
    "* چند منظوره و چند سکویی"
   ]
  },
  {
   "cell_type": "markdown",
   "metadata": {},
   "source": [
    "<p style='direction:rtl;text-align:justify'>\n",
    "<b> \n",
    "کاربردها:\n",
    "</b>\n",
    "توسعه ابزارهای تحت وب: Django\n",
    "</p>\n",
    "<p style='direction:rtl;text-align:justify'>\n",
    "محاسبات علمی:\n",
    "numpy, sympy, ...\n",
    "</p>\n",
    "<p style='direction:rtl;text-align:justify'>\n",
    "رابط‌های گرافیکی: pygame, pyqt, panda3d\n",
    "</p>"
   ]
  },
  {
   "cell_type": "markdown",
   "metadata": {},
   "source": [
    "<p style='direction:rtl;text-align:justify'>\n",
    "<b> \n",
    "تاریخچه:\n",
    "</b>\n",
    "(خیلی مهم نیست!)\n",
    "از نسخه ۱ تا نسخه ۱.۶ در سال ۲۰۰۰\n",
    "نسخه ۲ و در سال ۲۰۱۰ نسخه ۲.۷ ارایه شد. ولی در سال ۲۰۰۸ نسخه ۳ باز نویسی شد و تا الان ادامه دارد.\n",
    "</p>"
   ]
  },
  {
   "cell_type": "markdown",
   "metadata": {},
   "source": [
    "-----------------------------\n",
    "<p style='direction:rtl;text-align:justify'>\n",
    "<b>\n",
    "ویژگی‌ها:\n",
    "</b>\n",
    "یادگیری آسان\n",
    "</p>\n",
    "<p style='direction:rtl;text-align:justify'>\n",
    "Free and Open Source\n",
    "</p>\n",
    "<p style='direction:rtl;text-align:justify'>\n",
    "چند سکویی\n",
    "</p>\n",
    "<p style='direction:rtl;text-align:justify'>\n",
    "ترکیب شدن و توسعه در زبان‌هایی مانند \n",
    "C , C++\n",
    "</p>\n",
    "<p style='direction:rtl;text-align:justify'>\n",
    "کتابخانه‌های استاندارد زیاد\n",
    "</p>\n",
    "<p style='direction:rtl;text-align:justify'>\n",
    "شی گرایی و ...\n",
    "</p>"
   ]
  },
  {
   "cell_type": "markdown",
   "metadata": {},
   "source": [
    "-------------------\n",
    "<p style='direction:rtl;text-align:justify'>\n",
    "<b>\n",
    "مزایا:  \n",
    "</b>\n",
    "۱- syntax \n",
    "بسیار آسانی دارد.\n",
    "</p>\n",
    "\n",
    ">```python\n",
    "a = 2\n",
    "b = 3\n",
    "s = a + b\n",
    "print(s)\n",
    "```\n",
    "\n",
    "<p style='direction:rtl;text-align:justify'>\n",
    "۲- \n",
    "مجبور می‌کند که کد تمیزی بنویسیم.  \n",
    "۳- \n",
    "بیشترین کار را در کمترین خط انجام می‌دهد.  \n",
    "۴- \n",
    "جامعه کاربری فعال و گسترده‌ای دارد: Stackoverflow  \n",
    "</p>"
   ]
  },
  {
   "cell_type": "markdown",
   "metadata": {},
   "source": [
    "<p style='direction:rtl;text-align:justify'>\n",
    "<b>\n",
    "نصب پایتون  \n",
    "</b>\n",
    "۱- پایتون استاندارد:  \n",
    "به سایت \n",
    "python.org \n",
    "بروید و یک نسخه را بر اساس نیاز خود بارگیری نمایید.  \n",
    "کدام نسخه؟ (توضیحات)   \n",
    "۱-۱ هنگام نصب مطمئن باشید که تیک مربوط به \n",
    "add to windows path \n",
    "را بزنید.     \n",
    "۱-۲ چندین نسخه مختلف پایتون را می‌توانید نصب داشته باشید. (خودتان باید مدیریت کنید.)  \n",
    "۲- توزیع آناکوندا\n",
    "(توضیحاتی درمورد آناکوندا داده می‌شود.)  \n",
    "https://www.anaconda.com/distribution/\n",
    "نسخه مناسب را بارگیری نمایید.\n",
    "</p>"
   ]
  },
  {
   "cell_type": "markdown",
   "metadata": {},
   "source": [
    "<p style='direction:rtl;text-align:justify'>\n",
    "<b>\n",
    "محیط برنامه نویسی  \n",
    "</b>\n",
    "به طور کلی در دو محیط می‌توان کدهای پایتون را نوشت. در ساده‌ترین حالت می‌توان از ویرایشگرهای متن استفاده کرد. مشهورترین ویرایشگرهایی که می‌توانید استفاده کنید: VS-code, Notepad++   \n",
    "محیط‌های توسعه: ابزارهای تخصصی و کاملی هستند که برای برنامه نویسی، عیب یابی و ... طراحی شده اند. مشهورترین‌ها:\n",
    "spyder, jupyter, Pycharm, ninja-ide, Eclipse, Visual Studio, ...\n",
    "</p>\n",
    "<p style='direction:rtl;text-align:justify'>\n",
    "(توضیحات درمورد جنگ ویرایشگرها)\n",
    "</p>\n"
   ]
  },
  {
   "cell_type": "markdown",
   "metadata": {},
   "source": [
    "<p style='direction:rtl;text-align:justify'>\n",
    "<b>\n",
    "نصب برنامه‌ها و کتابخانه‌ها  \n",
    "</b>\n",
    "۱- از طریق وب‌سایت‌ها(با مسئولیت خودتان)  \n",
    "۲- از صفحه رسمی برنامه (با مدیریت خودتان)  \n",
    "۳- مخزن غیر رسمی \n",
    "Unofficial Windows Binary for Python  \n",
    "۴- مخزن pypi \n",
    "و دستور زیر:\n",
    "</p>\n",
    "\n",
    "> pip install package_name\n",
    "\n",
    "<p style='direction:rtl;text-align:justify'>\n",
    "(توضیحات درمورد جنگ ویرایشگرها)\n",
    "</p>\n"
   ]
  },
  {
   "cell_type": "markdown",
   "metadata": {},
   "source": [
    "> ** _pip install jupyter_**  \n",
    "> ** _pip install spyder_**"
   ]
  },
  {
   "cell_type": "markdown",
   "metadata": {},
   "source": [
    "<p style='direction:rtl;text-align:justify'>\n",
    "<b>\n",
    "اجرای برنامه: \n",
    "</b>\n",
    "۱- در کنسول پایتون  \n",
    "۲- اجرای یک اسکریپت به صورت \n",
    "python.exe file.py  \n",
    "۳- محیط‌های توسعه  \n",
    "</p>\n",
    "\n",
    "----------------------"
   ]
  },
  {
   "cell_type": "markdown",
   "metadata": {},
   "source": [
    "<p style='direction:rtl;text-align:justify'>\n",
    "<b>\n",
    "اجرای اولین برنامه:\n",
    "</b>\n",
    "</p>"
   ]
  },
  {
   "cell_type": "code",
   "execution_count": null,
   "metadata": {},
   "outputs": [],
   "source": []
  },
  {
   "cell_type": "markdown",
   "metadata": {},
   "source": [
    "----------------\n",
    "<p style='direction:rtl;text-align:justify'>\n",
    "\n",
    "توضیح درباره ژوپیتر نوت بوک و فایل موجود در سامانه یا گیت‌هاب\n",
    "</p>\n",
    "\n",
    "--------------------------"
   ]
  },
  {
   "cell_type": "markdown",
   "metadata": {},
   "source": [
    "<p style='direction:rtl;text-align:justify'>\n",
    "<b>\n",
    "شروع کنیم به برنامه نویسی!  \n",
    "</b>\n",
    "۱- توضیح درباره استانداردهای\n",
    "PEP  \n",
    "</p>\n",
    "\n",
    "[PEP 0](https://www.python.org/dev/peps/)  \n",
    "[PEP 8](https://www.python.org/dev/peps/pep-0008/)\n",
    "\n",
    "----------------------------------"
   ]
  },
  {
   "cell_type": "markdown",
   "metadata": {},
   "source": [
    "<p style='direction:rtl;text-align:justify'>\n",
    "<b>\n",
    "واژگان کلیدی:\n",
    "</b>\n",
    "</p>"
   ]
  },
  {
   "cell_type": "markdown",
   "metadata": {},
   "source": [
    "|۱      |  ۲    |  ۳    | ۴     |۵      | ۶      | ۷      | \n",
    "|:-----:|:-----:|:-----:|:-----:|:-----:|:------:|:------:|  \n",
    "|and    |  as   |assert |break  |class  |continue|def     |  \n",
    "|del    |elif   |else   |except |finally|for     |from    |  \n",
    "|global |if     |import |in     |is     |lambda  |nonlocal|  \n",
    "|not    |or     |pass   |raise  |return |try     |while   |  \n",
    "|with   |yeild  |False  |True   |None   |        |        |"
   ]
  },
  {
   "cell_type": "markdown",
   "metadata": {},
   "source": [
    "<p style='direction:rtl;text-align:justify'>\n",
    "<b>\n",
    "شناسه‌ها:  \n",
    "</b>\n",
    "اسمی که به یک متغیر نسبت می‌دهیم، یک شناسه از ترکیب حروف، اعداد ایجاد می‌شود، ولی مجاز به شروع با اعداد نیستیم.  \n",
    "مجاز به گذاشتن علایم زیر نیستیم:\n",
    "</p>\n",
    "\n",
    ">```python\n",
    "! @  $ % ^ # ```  \n",
    "  \n",
    "<p style='direction:rtl;text-align:justify'>\n",
    "توضیح درباره استاندارد \n",
    "PEP\n",
    "</p>\n",
    "\n",
    ">```python\n",
    "* finally = 1      # not-permitted\n",
    "* O = 2            # better not used\n",
    "* l = 3            # better not used\n",
    "* lower_case = 4   # good choice\n",
    "* CapWord = 5      # good choice\n",
    "* class = 6        # not-permitted\n",
    "* class_ = 7       # better than misspell\n",
    "```"
   ]
  },
  {
   "cell_type": "markdown",
   "metadata": {},
   "source": [
    "<p style='direction:rtl;text-align:justify'>\n",
    "<b>\n",
    ":توضیحات\n",
    "</b>\n",
    "</p>\n",
    "  \n",
    "  \n",
    "  \n",
    "```python\n",
    "# use this sign to write one-line comment.\n",
    "# Better use comment at seperate line\n",
    "the_variable = True\n",
    "# in case of urgence you can use inline comment:\n",
    "the_variable = False  # cause I don't want it be True\n",
    "''' also you can use multi-line comment,\n",
    "these kind of comments are very useful to\n",
    "write document strings in function.\n",
    "'''\n",
    "```"
   ]
  },
  {
   "cell_type": "markdown",
   "metadata": {},
   "source": [
    "<p style='direction:rtl;text-align:justify'>\n",
    "<b>\n",
    "متغیرها:  \n",
    "</b>\n",
    "۱- \n",
    "نیازی به تعریف جنس متغیر نداریم.  \n",
    "۲- \n",
    "عملگر انتساب و کاربردهای آن  \n",
    "۳- انتساب چندتایی  \n",
    "  \n",
    "مثال:</p>"
   ]
  },
  {
   "cell_type": "code",
   "execution_count": null,
   "metadata": {},
   "outputs": [],
   "source": []
  },
  {
   "cell_type": "markdown",
   "metadata": {},
   "source": [
    "<p style='direction:rtl;text-align:justify'>\n",
    "ثابت‌ها با حروف تمام بزرگ معرفی می‌شوند. بهتر است در ابتدای برنامه تعریف شوند.  \n",
    "مثال:\n",
    "</p>"
   ]
  },
  {
   "cell_type": "code",
   "execution_count": null,
   "metadata": {},
   "outputs": [],
   "source": []
  },
  {
   "cell_type": "markdown",
   "metadata": {},
   "source": [
    "<p style='direction:rtl;text-align:justify'>\n",
    "انواع متغیرها:  \n",
    "۱- \n",
    "عددی\n",
    "</p>"
   ]
  },
  {
   "cell_type": "code",
   "execution_count": 6,
   "metadata": {},
   "outputs": [],
   "source": [
    "binary = 0b1010\n",
    "decimal = 100  # integer\n",
    "octa = 0o127\n",
    "hexa = 0x1E4\n",
    "float_1 = 1.2\n",
    "float_2 = 1.1e10\n",
    "complex_ = 1 + 10j"
   ]
  },
  {
   "cell_type": "markdown",
   "metadata": {},
   "source": [
    "<p style='direction:rtl;text-align:justify'>\n",
    "۲- رشته‌ها\n",
    "</p>"
   ]
  },
  {
   "cell_type": "code",
   "execution_count": 15,
   "metadata": {},
   "outputs": [],
   "source": [
    "string1 = 'This is a test'\n",
    "string2 = \"This is also a test\"\n",
    "char = \"c\" # also 'c'\n",
    "multi_line_string = \"\"\"this is multi-line string\n",
    "with triple ' \"\"\"\n",
    "unicode_string = u'یک متن با کاراکترهای یونیکد'\n",
    "raw_string = r'this is raw text\\n you see'\n",
    "string3 = 'this is raw text\\n you see'"
   ]
  },
  {
   "cell_type": "code",
   "execution_count": 84,
   "metadata": {},
   "outputs": [
    {
     "name": "stdout",
     "output_type": "stream",
     "text": [
      "this is multi-line string\n",
      "with triple ' \n"
     ]
    }
   ],
   "source": [
    "print(multi_line_string)"
   ]
  },
  {
   "cell_type": "markdown",
   "metadata": {},
   "source": [
    "<p style='direction:rtl;text-align:justify'>\n",
    "۳- boolean:  \n",
    "</p>"
   ]
  },
  {
   "cell_type": "code",
   "execution_count": 17,
   "metadata": {},
   "outputs": [],
   "source": [
    "a = True\n",
    "b = False"
   ]
  },
  {
   "cell_type": "markdown",
   "metadata": {},
   "source": [
    "<p style='direction:rtl;text-align:justify'>\n",
    "۴- هیچی:  \n",
    "</p>\n",
    "\n",
    "```python\n",
    "a = None\n",
    "```"
   ]
  },
  {
   "cell_type": "markdown",
   "metadata": {},
   "source": [
    "<p style='direction:rtl;text-align:justify'>\n",
    "۵- collections:\n",
    "</p>"
   ]
  },
  {
   "cell_type": "code",
   "execution_count": 22,
   "metadata": {},
   "outputs": [],
   "source": [
    "# list :\n",
    "list1 = [1, 2, 'a', [4,2,1]]\n",
    "# tuple:\n",
    "tuple1 = (1, 2, 'a', [4,2,1])\n",
    "# Dictionary:\n",
    "dict1 = {'1':2, 2:3, 4:'5', 'word':'واژه'}\n",
    "# set:\n",
    "set1 = {5,1,3,5,1,'a'}"
   ]
  },
  {
   "cell_type": "code",
   "execution_count": 23,
   "metadata": {},
   "outputs": [
    {
     "data": {
      "text/plain": [
       "{1, 3, 5, 'a'}"
      ]
     },
     "execution_count": 23,
     "metadata": {},
     "output_type": "execute_result"
    }
   ],
   "source": [
    "set1"
   ]
  },
  {
   "cell_type": "markdown",
   "metadata": {},
   "source": [
    "<p style='direction:rtl;text-align:justify'>\n",
    "<b>\n",
    "جنس داده‌ها- \n",
    "Data type:  \n",
    "</b>\n",
    "</p>\n",
    "\n",
    "* numbers\n",
    "  * int\n",
    "  * float\n",
    "  * complex"
   ]
  },
  {
   "cell_type": "code",
   "execution_count": null,
   "metadata": {},
   "outputs": [],
   "source": []
  },
  {
   "cell_type": "markdown",
   "metadata": {},
   "source": [
    "* Lists  \n",
    " * ordered container\n",
    " * indexing\n",
    " * get_item operator []\n",
    " * sum operator +\n",
    " * product operator *\n",
    " * Methods\n",
    "   + count\n",
    "   + sort\n",
    "   + append\n",
    "   + ...\n",
    " * functions\n",
    "   + len\n",
    "   + min\n",
    "   + max\n",
    "   \n",
    "```python\n",
    "a = [1, '2', 3.4, 5+6j, [7]]\n",
    "idx: |   |    |    |     |\n",
    "     0   1    2    3     4\n",
    "    -5  -4   -3   -2    -1\n",
    "```"
   ]
  },
  {
   "cell_type": "code",
   "execution_count": 34,
   "metadata": {},
   "outputs": [
    {
     "data": {
      "text/plain": [
       "3"
      ]
     },
     "execution_count": 34,
     "metadata": {},
     "output_type": "execute_result"
    }
   ],
   "source": [
    "a = [1, 2, 3, 4, 5, 6]\n",
    "a[-4]"
   ]
  },
  {
   "cell_type": "markdown",
   "metadata": {},
   "source": [
    "* Tuples\n",
    " * Doesn't support reassigning value\n",
    " * ordered container\n",
    " * sum operator +\n",
    " * product operator *\n",
    " * Methods\n",
    "   + count\n",
    "   + index\n",
    "\n",
    "```python\n",
    "a = (1, '2', 3.4, 5+6j, [7])\n",
    "idx: |   |    |    |     |\n",
    "     0   1    2    3     4\n",
    "    -5  -4   -3   -2    -1\n",
    "```"
   ]
  },
  {
   "cell_type": "markdown",
   "metadata": {},
   "source": [
    "* Strings\n",
    "  * get_item []\n",
    "  * can't accept reassigning value\n",
    "  * sum\n",
    "  * product\n",
    "  * Methods\n",
    "    + join\n",
    "    + split\n",
    "    + ..."
   ]
  },
  {
   "cell_type": "code",
   "execution_count": null,
   "metadata": {},
   "outputs": [],
   "source": []
  },
  {
   "cell_type": "markdown",
   "metadata": {},
   "source": [
    "* Sets\n",
    "  * unordered container\n",
    "  * not support get_item\n",
    "  * not support index"
   ]
  },
  {
   "cell_type": "code",
   "execution_count": null,
   "metadata": {},
   "outputs": [],
   "source": []
  },
  {
   "cell_type": "markdown",
   "metadata": {},
   "source": [
    "* Dictionaries\n",
    "\n",
    "```python\n",
    "D = {key:value}\n",
    "D[key] -> value\n",
    "```"
   ]
  },
  {
   "cell_type": "code",
   "execution_count": null,
   "metadata": {},
   "outputs": [],
   "source": []
  },
  {
   "cell_type": "markdown",
   "metadata": {},
   "source": [
    "<p style='direction:rtl;text-align:justify'>\n",
    "<b>\n",
    "تبدیل جنس‌داده‌ها به یکدیگر:   \n",
    "</b>\n",
    "توجه شود که هر جنسی را نمی‌توانیم به دیگری تبدیل کنیم.\n",
    "</p>"
   ]
  },
  {
   "cell_type": "code",
   "execution_count": null,
   "metadata": {},
   "outputs": [],
   "source": []
  },
  {
   "cell_type": "markdown",
   "metadata": {},
   "source": [
    "-----------------------------\n",
    "<p style='direction:rtl;text-align:justify'>\n",
    "<b>\n",
    "ورودی - خروجی  \n",
    "</b>\n",
    "</p>\n",
    "\n",
    "```python\n",
    "print('The Text formatting x = {} and y = {}, for more info about print see help'.format(1,2))\n",
    "```\n",
    "```python\n",
    "input('Enter something: ')\n",
    "```\n",
    "```python\n",
    "import math\n",
    "```"
   ]
  },
  {
   "cell_type": "code",
   "execution_count": null,
   "metadata": {},
   "outputs": [],
   "source": []
  },
  {
   "cell_type": "markdown",
   "metadata": {},
   "source": [
    "-----------------------------\n",
    "<p style='direction:rtl;text-align:justify'>\n",
    "<b>\n",
    "عملگرهای ریاضی  \n",
    "</b>\n",
    "</p>\n",
    "\n",
    "|operator | type     | description                                               |\n",
    "|--------:|:--------:| :-------------------------------------------------------: |\n",
    "|+        |arithmetic|`2 + 3` &rarr; `5`: sum two numbers                        |\n",
    "|-        |arithmetic|`2 - 3` &rarr; `-1`                                        |\n",
    "|*        |arithmetic|`2 * 3` &rarr; `6`: product                                |\n",
    "|/        |arithmetic|`2 / 3` &rarr; `0.6` : float division                      |\n",
    "|//       |arithmetic|`2 // 3` &rarr; `0` : integer division                     |\n",
    "| %       |arithmetic|`2 % 3` &rarr; `2` : remainder                             |\n",
    "| **      |arithmetic|`2 ** 3` &rarr; `8` : power                                |\n",
    "|>        |boolean   |`2 > 3` &rarr; `False` : greater than                      |\n",
    "|<        |boolean   |`2 < 3` &rarr; `True`  : less than                         |\n",
    "|==       |boolean   |`2 == 3` &rarr; `False` : is equal to                      |\n",
    "|!=       |boolean   |`2 != 3` &rarr; `True`  : is not equal to                  |\n",
    "|>=       |boolean   |`2 >= 3` &rarr; `False`                                    |\n",
    "|<=       |boolean   |`2 <= 3` &rarr; `True`                                     |\n",
    "|and      |logical   |`True and False` &rarr; `False`                            |\n",
    "|or       |logical   |`True or False` &rarr; `True`                              |\n",
    "|&        |bitwise   |`5&2` &rarr; `0`                                           |\n",
    "| &#124;  |bitwise   |`5`&#124;`2` &rarr;`7`                                     |\n",
    "| ~       |bitwise   |`~5` &rarr; `-6`                                           |\n",
    "| ^       |bitwise   |`6^2` &rarr; `4` :  xor                                    |\n",
    "| =       |assign    |`a = 2` &rarr; `a set as  2`                               |\n",
    "| +=      |assign    |`a += 3` &rarr; `a update to 5`                            |\n",
    "| -=      |assign    |`a -= 1` &rarr; `a update to 4`                            |\n",
    "| *=      |assign    |`a *= 2` &rarr; `a update to 8`                            |\n",
    "|is       |Special   |`a is True`, `a is None`, `a is 2`                         |\n",
    "|is not   |Special   |                                                           |\n",
    "|in       |Special   |`2 in [1,2,3]` &rarr; `True`                               |\n",
    "|not in   |Special   |`5 not in [1,2,3]` &rarr; `False`                          |"
   ]
  },
  {
   "cell_type": "code",
   "execution_count": null,
   "metadata": {},
   "outputs": [],
   "source": []
  },
  {
   "cell_type": "markdown",
   "metadata": {},
   "source": [
    "-----------------------------\n",
    "<p style='direction:rtl;text-align:justify'>\n",
    "<b>\n",
    "گزاره‌های شرطی:    \n",
    "</b>\n",
    "</p>\n",
    "\n",
    ">```python\n",
    "if conditional_statement1:\n",
    "   statement1\n",
    "elif conditional_statement2:\n",
    "   statement2\n",
    "else:\n",
    "   statement3\n",
    "```"
   ]
  },
  {
   "cell_type": "markdown",
   "metadata": {},
   "source": [
    "-----------------------------\n",
    "<p style='direction:rtl;text-align:justify'>\n",
    "<b>\n",
    "انتساب شرطی: \n",
    "</b>\n",
    "</p>"
   ]
  },
  {
   "cell_type": "code",
   "execution_count": null,
   "metadata": {},
   "outputs": [],
   "source": []
  },
  {
   "cell_type": "markdown",
   "metadata": {},
   "source": [
    "-----------------------------\n",
    "<p style='direction:rtl;text-align:justify'>\n",
    "<b>\n",
    "حلقه \n",
    "for:\n",
    "</b>\n",
    "</p>\n",
    "\n",
    ">```python\n",
    "for counter in sequence:\n",
    "    Body_of_for\n",
    "else:\n",
    "    statement\n",
    "```\n",
    "\n",
    "<p style='direction:rtl;text-align:justify'>\n",
    "توضیح مختصر درباره \n",
    "range\n",
    "</p>"
   ]
  },
  {
   "cell_type": "code",
   "execution_count": null,
   "metadata": {},
   "outputs": [],
   "source": []
  },
  {
   "cell_type": "markdown",
   "metadata": {},
   "source": [
    "-----------------------------\n",
    "<p style='direction:rtl;text-align:justify'>\n",
    "<b>\n",
    "حلقه \n",
    "while:\n",
    "</b>\n",
    "</p>\n",
    "\n",
    ">```python\n",
    "while boolean_condition:\n",
    "    body_of_while\n",
    "    update condition\n",
    "else:\n",
    "    statement\n",
    "```"
   ]
  },
  {
   "cell_type": "code",
   "execution_count": null,
   "metadata": {},
   "outputs": [],
   "source": []
  },
  {
   "cell_type": "markdown",
   "metadata": {},
   "source": [
    "<p style='direction:rtl;text-align:justify'>\n",
    "توضیح درباره \n",
    "break , continue, pass\n",
    "</p>"
   ]
  },
  {
   "cell_type": "code",
   "execution_count": 1,
   "metadata": {},
   "outputs": [],
   "source": [
    "if 'somecondition' == True:\n",
    "    pass"
   ]
  },
  {
   "cell_type": "markdown",
   "metadata": {},
   "source": [
    "-----------------------------\n",
    "<p style='direction:rtl;text-align:justify'>\n",
    "<b>\n",
    "توابع  \n",
    "</b>\n",
    "</p>\n",
    "\n",
    "```python\n",
    "def my_awsome_function(awsome_arguments):\n",
    "    '''awsome doc string'''\n",
    "    pass\n",
    "```"
   ]
  },
  {
   "cell_type": "code",
   "execution_count": null,
   "metadata": {},
   "outputs": [],
   "source": []
  },
  {
   "cell_type": "markdown",
   "metadata": {},
   "source": [
    "-----------------------------\n",
    "<p style='direction:rtl;text-align:justify'>\n",
    "<b>\n",
    "توابع لاندا \n",
    "</b>\n",
    "</p>\n",
    "\n",
    ">```python\n",
    "awsome_function = lambda x: x ** 2\n",
    "print(awsome_function(3))\n",
    "```"
   ]
  },
  {
   "cell_type": "code",
   "execution_count": 3,
   "metadata": {},
   "outputs": [],
   "source": []
  },
  {
   "cell_type": "code",
   "execution_count": null,
   "metadata": {},
   "outputs": [],
   "source": []
  },
  {
   "cell_type": "markdown",
   "metadata": {},
   "source": [
    "---------------------------\n",
    "<p style='direction:rtl;text-align:justify'>\n",
    "<b>\n",
    "ساختار یک کد:\n",
    "</b>\n",
    "</p>\n",
    "\n",
    "\n",
    "```python\n",
    "# add all library you want:\n",
    "import this\n",
    "\n",
    "\n",
    "# define global Variables or constants:\n",
    "PI = 3.14\n",
    "var1 = True\n",
    "\n",
    "\n",
    "# define functions:\n",
    "def my_awsome_function():\n",
    "    pass\n",
    "\n",
    "\n",
    "# your main body:\n",
    "if __name__ == '__main__':\n",
    "    print('This code is amazing!')\n",
    "```"
   ]
  },
  {
   "cell_type": "markdown",
   "metadata": {},
   "source": [
    "---------------------------\n",
    "<p style='direction:rtl;text-align:justify'>\n",
    "<b>\n",
    "مدیریت فایل:  \n",
    "</b>\n",
    "</p>\n",
    "\n",
    "* open file in simple\n",
    "  * \"with\" syntax\n",
    "* write file\n",
    "  * \"with\" syntax"
   ]
  },
  {
   "cell_type": "code",
   "execution_count": null,
   "metadata": {},
   "outputs": [],
   "source": []
  },
  {
   "cell_type": "markdown",
   "metadata": {},
   "source": [
    "---------------------------\n",
    "<p style='direction:rtl;text-align:justify'>\n",
    "<b>\n",
    "برنامه نویسی شی‌گرا:  \n",
    "</b>\n",
    "ساختار یک \n",
    "class\n",
    "</p>\n",
    "\n",
    "```python\n",
    "class MyAwsomeClass(object):\n",
    "    '''here is **MyAwsomeClass** Docstring:\n",
    "    as you can see this is the way of using the classes'''\n",
    "\n",
    "    def __init__(self, arguments):\n",
    "        self.Awsome_public_var = values\n",
    "        self.__Awsome_private_var__ = Values\n",
    "        self.__restricted_Awsome_var = values\n",
    "        do_awsome_things\n",
    "    \n",
    "    \n",
    "    def __private_method__(self):\n",
    "        do_private_things\n",
    "    \n",
    "    \n",
    "    def __public_method__(self):\n",
    "        do_public_things\n",
    "```"
   ]
  },
  {
   "cell_type": "code",
   "execution_count": 2,
   "metadata": {},
   "outputs": [],
   "source": [
    "class myList(list):\n",
    "    def __getitem__(self, p):\n",
    "        if self.count(p) == 0:\n",
    "            return None"
   ]
  },
  {
   "cell_type": "code",
   "execution_count": 3,
   "metadata": {},
   "outputs": [],
   "source": [
    "m = myList([1,2,3,5])"
   ]
  },
  {
   "cell_type": "code",
   "execution_count": 4,
   "metadata": {},
   "outputs": [],
   "source": [
    "m.append(7)"
   ]
  },
  {
   "cell_type": "code",
   "execution_count": 5,
   "metadata": {},
   "outputs": [],
   "source": [
    "m[1]"
   ]
  },
  {
   "cell_type": "code",
   "execution_count": 8,
   "metadata": {},
   "outputs": [
    {
     "data": {
      "text/plain": [
       "[1, 2, 3, 5, 7]"
      ]
     },
     "execution_count": 8,
     "metadata": {},
     "output_type": "execute_result"
    }
   ],
   "source": [
    "m"
   ]
  },
  {
   "cell_type": "code",
   "execution_count": 7,
   "metadata": {},
   "outputs": [],
   "source": [
    "m[10]"
   ]
  }
 ],
 "metadata": {
  "kernelspec": {
   "display_name": "Python 3",
   "language": "python",
   "name": "python3"
  },
  "language_info": {
   "codemirror_mode": {
    "name": "ipython",
    "version": 3
   },
   "file_extension": ".py",
   "mimetype": "text/x-python",
   "name": "python",
   "nbconvert_exporter": "python",
   "pygments_lexer": "ipython3",
   "version": "3.7.3"
  }
 },
 "nbformat": 4,
 "nbformat_minor": 2
}
