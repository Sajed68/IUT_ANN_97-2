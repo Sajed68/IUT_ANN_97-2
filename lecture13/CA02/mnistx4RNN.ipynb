{
 "cells": [
  {
   "cell_type": "markdown",
   "metadata": {},
   "source": [
    "<hr style=\"width:100%;height:1px\">\n",
    "<table style=\"width:100%\">\n",
    "  <tr style=\"background-color:rgb(255,255,255)\">\n",
    "    <th style=\"width:25%\">\n",
    "    <img src=\"iut.png\" alt=\"دانشگاه صنعتی اصفهان\" style=\"width:120px;height:120px;\">\n",
    "    </th>\n",
    "    <th style=\"width:75%\">\n",
    "    <p style=\"direction:rtl;text-align:right;font-family:'B Mitra';font-size:12pt\">\n",
    "    .::به نام خداوند بخشنده و بخشایشگر مهربان::.\n",
    "    </p>\n",
    "    <p style=\"direction:rtl;text-align:right;font-family:'B Mitra';font-size:12pt\">\n",
    "    تمرین رایانه‌ای دوم درس شبکه عصبی - دانشگاه صنعتی اصفهان - نیم سال اول تحصیلی سال ۹۷-۱۳۹۸\n",
    "    </p>\n",
    "    <p style=\"direction:rtl;text-align:right;font-family:'B Mitra';font-size:12pt\">\n",
    "    بخش دوم: پیدا سازی یک شبکه بازگشتی\n",
    "    </p>\n",
    "    </th>\n",
    "  </tr>\n",
    "</table>\n",
    "\n",
    "<hr style=\"width:100%;height:1px\">"
   ]
  },
  {
   "cell_type": "markdown",
   "metadata": {},
   "source": [
    "<p style=\"direction:rtl;text-align:right;font-family:'B Mitra';font-size:14pt\">\n",
    "در این تمرین می‌خواهیم یک مسأله دسته بندی را حل نماییم. حتما فایل توضیحات همراه این نوت‌بوک را مطالعه نمایید و مراحل مورد نیاز را در این فایل پیاده سازی نمایید.\n",
    "</p>"
   ]
  },
  {
   "cell_type": "code",
   "execution_count": 1,
   "metadata": {},
   "outputs": [
    {
     "name": "stderr",
     "output_type": "stream",
     "text": [
      "Using TensorFlow backend.\n"
     ]
    }
   ],
   "source": [
    "from keras.datasets import mnist\n",
    "from keras.layers import Conv2D, MaxPool2D, Deconv2D, BatchNormalization, Input, Dropout, Flatten, LSTM, TimeDistributed\n",
    "from keras.models import Model\n",
    "from keras.optimizers import adam\n",
    "from keras.utils.np_utils import to_categorical\n",
    "import numpy as np\n",
    "from sklearn.model_selection import train_test_split\n",
    "from sklearn.metrics import confusion_matrix\n",
    "from matplotlib import pyplot as plt, cm"
   ]
  },
  {
   "cell_type": "markdown",
   "metadata": {},
   "source": [
    "<p style=\"direction:rtl;text-align:right;font-family:'B Mitra';font-size:14pt\">\n",
    "ابتدا پایگاه داده متشکل از ۱۰۰۰ تصویر شامل اعداد ۴ رقمی ایجاد می‌شود.\n",
    "</p>"
   ]
  },
  {
   "cell_type": "code",
   "execution_count": 2,
   "metadata": {
    "colab": {
     "base_uri": "https://localhost:8080/",
     "height": 68
    },
    "colab_type": "code",
    "id": "wktFSeDyNM57",
    "outputId": "8c07c046-1c75-4ba1-b918-1c98eb57569d"
   },
   "outputs": [],
   "source": [
    "(x_train, y_train), (x_test, y_test) = mnist.load_data()"
   ]
  },
  {
   "cell_type": "code",
   "execution_count": 3,
   "metadata": {
    "colab": {},
    "colab_type": "code",
    "id": "SbXpFJxLNWXb"
   },
   "outputs": [],
   "source": [
    "idx = np.random.randint(0, x_train.shape[0], size=(1000,4))\n",
    "X = np.zeros((1000, 28, 112, 1))\n",
    "Y = np.zeros((1000, 4))\n",
    "Ystr = []\n",
    "nonzeroidx = np.where(y_train != 0)[0]\n",
    "l0 = len(nonzeroidx)\n",
    "\n",
    "for j in range(1000):\n",
    "    if y_train[idx[j, 0]] != 0:\n",
    "        x = [x_train[i] for i in idx[j]]\n",
    "        y = [y_train[i] for i in idx[j]]\n",
    "    else:\n",
    "        idx[j ,0] = nonzeroidx[np.random.randint(l0)]\n",
    "        x = [x_train[i] for i in idx[j]]\n",
    "        y = [y_train[i] for i in idx[j]]\n",
    "    v = np.hstack(x)\n",
    "    X[j, :, :, 0] = v / 255.0\n",
    "    Y[j] = y\n",
    "    y = [str(i) for i in y]\n",
    "    Ystr.append(''.join(y))"
   ]
  },
  {
   "cell_type": "code",
   "execution_count": 4,
   "metadata": {
    "colab": {},
    "colab_type": "code",
    "id": "KzAIy6HXNcMu"
   },
   "outputs": [],
   "source": [
    "X = X;\n",
    "Y = Ystr;"
   ]
  },
  {
   "cell_type": "markdown",
   "metadata": {},
   "source": [
    "<p style=\"direction:rtl;text-align:right;font-family:'B Mitra';font-size:14pt\">\n",
    "در شکل زیر یک نمونه از تصاویر ایجاد شده و برچسب متنی آن نشان داده شده است. دقت کنید که این برچسب برای شبکه قابل فهم نیست. مطابق معماری‌ای که برای شبکه درنظر می‌گیرید سعی کنید برچسب مناسب را ایجاد نمایید.\n",
    "</p>"
   ]
  },
  {
   "cell_type": "code",
   "execution_count": 5,
   "metadata": {
    "colab": {
     "base_uri": "https://localhost:8080/",
     "height": 152
    },
    "colab_type": "code",
    "id": "XW9-7_8yNeDH",
    "outputId": "4bd1dbd7-4c5d-4ebb-ff62-b1302d86a68b"
   },
   "outputs": [
    {
     "data": {
      "text/plain": [
       "'3681'"
      ]
     },
     "execution_count": 5,
     "metadata": {},
     "output_type": "execute_result"
    },
    {
     "data": {
      "image/png": "[encoded data removed]",
      "text/plain": [
       "<Figure size 432x288 with 1 Axes>"
      ]
     },
     "metadata": {
      "needs_background": "light"
     },
     "output_type": "display_data"
    }
   ],
   "source": [
    "plt.imshow(X[100, :, :, 0], cm.gray);\n",
    "Y[100]"
   ]
  },
  {
   "cell_type": "code",
   "execution_count": null,
   "metadata": {
    "colab": {},
    "colab_type": "code",
    "id": "n536hZ9uNgmG"
   },
   "outputs": [],
   "source": [
    "# create usefull label data\n",
    "## --- write your code here ---- #"
   ]
  },
  {
   "cell_type": "markdown",
   "metadata": {
    "colab": {},
    "colab_type": "code",
    "id": "5gL4wkdpNjTa"
   },
   "source": [
    "<p style=\"direction:rtl;text-align:right;font-family:'B Mitra';font-size:14pt\">\n",
    "این هزار داده را در دو دسته آموزشی و آزمون با نسبت ۷۰ به ۳۰ تقسیم کنید.\n",
    "</p>"
   ]
  },
  {
   "cell_type": "code",
   "execution_count": null,
   "metadata": {},
   "outputs": [],
   "source": [
    "# split train and test data:\n",
    "## ---- write your code here ---- #"
   ]
  },
  {
   "cell_type": "markdown",
   "metadata": {
    "colab": {
     "base_uri": "https://localhost:8080/",
     "height": 1020
    },
    "colab_type": "code",
    "id": "el8lmMRrNmG5",
    "outputId": "18b77466-0099-400c-b16b-4d06ae5d5fc7"
   },
   "source": [
    "<p style=\"direction:rtl;text-align:right;font-family:'B Mitra';font-size:14pt\">\n",
    "حال یک شبکه کانولوشنی مناسب برای داده‌ها طراحی کنید. و اسم آن شبکه را \n",
    "modelrnn \n",
    "بگذارید.\n",
    "</p>"
   ]
  },
  {
   "cell_type": "code",
   "execution_count": null,
   "metadata": {
    "colab": {},
    "colab_type": "code",
    "id": "BcarE2kwO5Ql"
   },
   "outputs": [],
   "source": [
    "# create a CNN model and name it modelcnn:\n",
    "## ---- write your code here ---- ##"
   ]
  },
  {
   "cell_type": "markdown",
   "metadata": {
    "colab": {},
    "colab_type": "code",
    "id": "FUAlcF85Nokv"
   },
   "source": [
    "<p style=\"direction:rtl;text-align:right;font-family:'B Mitra';font-size:14pt\">\n",
    "حال با کامل کردن کد زیر مدل را کامپایل نمایید.\n",
    "</p>"
   ]
  },
  {
   "cell_type": "code",
   "execution_count": null,
   "metadata": {
    "colab": {},
    "colab_type": "code",
    "id": "YRCnMSttNrCL"
   },
   "outputs": [],
   "source": [
    "modelrnn.compile(loss= , optimizer= , metrics=['acc'])"
   ]
  },
  {
   "cell_type": "markdown",
   "metadata": {},
   "source": [
    "<p style=\"direction:rtl;text-align:right;font-family:'B Mitra';font-size:14pt\">\n",
    "کد زیر را کامل کنید و مدل را آموزش دهید.\n",
    "</p>"
   ]
  },
  {
   "cell_type": "code",
   "execution_count": null,
   "metadata": {
    "colab": {
     "base_uri": "https://localhost:8080/",
     "height": 6854
    },
    "colab_type": "code",
    "id": "RmH_8GiqNtaa",
    "outputId": "6d461ced-c0c2-48bb-a7f0-db4c7a86e134",
    "scrolled": true
   },
   "outputs": [],
   "source": [
    "hist = modelrnn.fit(, , epochs=, validation_data=(, ), verbose=1)"
   ]
  },
  {
   "cell_type": "markdown",
   "metadata": {},
   "source": [
    "<p style=\"direction:rtl;text-align:right;font-family:'B Mitra';font-size:14pt\">\n",
    "قطعه کد زیر دقت خروجی شبکه را در ایپاک‌های مختلف و روی داده‌های آموزش و آزمون نشان می‌دهد. با استفاده از نمودار بررسی کنید که آیا شبکه به درستی آموزش داده شده است یا خیر.\n",
    "</p>"
   ]
  },
  {
   "cell_type": "code",
   "execution_count": null,
   "metadata": {
    "colab": {
     "base_uri": "https://localhost:8080/",
     "height": 621
    },
    "colab_type": "code",
    "id": "AwmHFNEINwFZ",
    "outputId": "9e1bfe57-a4dc-471d-8b49-a3c97d9708c2"
   },
   "outputs": [],
   "source": [
    "keys = hist.history.keys()\n",
    "l = []\n",
    "plt.figure(figsize=(17, 10))\n",
    "for key in keys:\n",
    "    if key[-1] != 's':\n",
    "        plt.plot(hist.history[key])\n",
    "        l.append(key)\n",
    "plt.grid()\n",
    "plt.legend(l)\n",
    "plt.title('accuracy for train and test over 100 epoches')\n",
    "plt.xlabel('# epochs');"
   ]
  },
  {
   "cell_type": "markdown",
   "metadata": {
    "colab": {},
    "colab_type": "code",
    "id": "cudctxxG5f4y"
   },
   "source": [
    "<p style=\"direction:rtl;text-align:right;font-family:'B Mitra';font-size:14pt\">\n",
    "سعی کنید دقت خروجی شبکه را در قالب درصد گزارش کنید.\n",
    "</p>"
   ]
  },
  {
   "cell_type": "code",
   "execution_count": null,
   "metadata": {
    "colab": {
     "base_uri": "https://localhost:8080/",
     "height": 34
    },
    "colab_type": "code",
    "id": "KtB8KwAW5v5Q",
    "outputId": "4c6eb858-07f6-40e8-dc91-2a709d7d25e5"
   },
   "outputs": [],
   "source": [
    "# ---- write code  here-----#"
   ]
  },
  {
   "cell_type": "markdown",
   "metadata": {},
   "source": [
    "<p style=\"direction:rtl;text-align:right;font-family:'B Mitra';font-size:14pt\">\n",
    "دو سلول پایین شمایی گرافیکی از شبکه‌ای را که طراحی کرده‌اید را ایجاد خواهد کرد. این دستورات را بخاطر بسپارید و در پروژه نهایی خود پیاده سازی کنید.\n",
    "</p>"
   ]
  },
  {
   "cell_type": "code",
   "execution_count": null,
   "metadata": {
    "colab": {},
    "colab_type": "code",
    "id": "71mQtURRQrDV"
   },
   "outputs": [],
   "source": [
    "from keras.utils import plot_model\n",
    "plot_model(modelrnn, to_file='modelrnn.png')"
   ]
  },
  {
   "cell_type": "markdown",
   "metadata": {
    "colab": {
     "base_uri": "https://localhost:8080/",
     "height": 5575
    },
    "colab_type": "code",
    "id": "03huxLca3WYM",
    "outputId": "f0489996-e8c3-4699-d789-5ae9c4afd0b9",
    "scrolled": false
   },
   "source": [
    "![modelrnn](modelrnn.png)"
   ]
  }
 ],
 "metadata": {
  "accelerator": "GPU",
  "colab": {
   "name": "mnistx4CNN.ipynb",
   "provenance": [],
   "version": "0.3.2"
  },
  "kernelspec": {
   "display_name": "Python 3",
   "language": "python",
   "name": "python3"
  },
  "language_info": {
   "codemirror_mode": {
    "name": "ipython",
    "version": 3
   },
   "file_extension": ".py",
   "mimetype": "text/x-python",
   "name": "python",
   "nbconvert_exporter": "python",
   "pygments_lexer": "ipython3",
   "version": "3.7.3"
  }
 },
 "nbformat": 4,
 "nbformat_minor": 1
}
