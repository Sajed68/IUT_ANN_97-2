{
 "cells": [
  {
   "cell_type": "markdown",
   "metadata": {},
   "source": [
    "<hr style=\"width:100%;height:1px\">\n",
    "<table style=\"width:100%\">\n",
    "  <tr style=\"background-color:rgb(255,255,255)\">\n",
    "    <th style=\"width:25%\">\n",
    "    <img src=\"iut.png\" alt=\"دانشگاه صنعتی اصفهان\" style=\"width:120px;height:120px;\">\n",
    "    </th>\n",
    "    <th style=\"width:75%\">\n",
    "    <p style=\"direction:rtl;text-align:right;font-family:'B Mitra';font-size:12pt\">\n",
    "    .::به نام خداوند بخشنده و بخشایشگر مهربان::.\n",
    "    </p>\n",
    "    <p style=\"direction:rtl;text-align:right;font-family:'B Mitra';font-size:12pt\">\n",
    "    پروژه نهایی درس شبکه عصبی - دانشگاه صنعتی اصفهان - نیم سال اول تحصیلی سال ۹۷-۱۳۹۸\n",
    "    </p>\n",
    "    <p style=\"direction:rtl;text-align:right;font-family:'B Mitra';font-size:12pt\">\n",
    "    پروژه ۲: آموزش شبکه برای تولید ابیات شاهنامه\n",
    "    </p>\n",
    "    </th>\n",
    "  </tr>\n",
    "</table>\n",
    "\n",
    "<hr style=\"width:100%;height:1px\">"
   ]
  },
  {
   "cell_type": "markdown",
   "metadata": {},
   "source": [
    "<p style=\"direction:rtl;text-align:right;font-family:'B Mitra';font-size:14pt\">\n",
    "نام و نام خانوادگی :\n",
    "</p>\n"
   ]
  },
  {
   "cell_type": "markdown",
   "metadata": {},
   "source": []
  },
  {
   "cell_type": "markdown",
   "metadata": {},
   "source": [
    "<p style=\"direction:rtl;text-align:right;font-family:'B Mitra';font-size:14pt\">\n",
    "شماره دانشجویی:\n",
    "</p>"
   ]
  },
  {
   "cell_type": "markdown",
   "metadata": {},
   "source": []
  },
  {
   "cell_type": "markdown",
   "metadata": {},
   "source": [
    "<hr style=\"width:100%;height:1px\">"
   ]
  },
  {
   "cell_type": "markdown",
   "metadata": {},
   "source": [
    "<p style=\"direction:rtl;text-align:right;font-family:'B Mitra';font-size:14pt\">\n",
    "در این تمرین می‌خواهیم با استفاده از داده‌های متنی شاهنامه شبکه بازگشتی‌ای را آموزش دهیم که در نهایت با گرفتن یک دنباله از شاهنامه بتواند آن را خودش ادامه داده و شعری با همان وزن بنویسید. پس اجازه دهید برخی از بسته‌ها و توابع مورد نیاز را برایتان به برنامه اضافه کنم. در صورت نیاز و یا عدم آن می‌توانید باز هم بسته‌ای اضافه و یا کم کنید.\n",
    "</p>"
   ]
  },
  {
   "cell_type": "code",
   "execution_count": 1,
   "metadata": {},
   "outputs": [
    {
     "name": "stderr",
     "output_type": "stream",
     "text": [
      "Using TensorFlow backend.\n"
     ]
    }
   ],
   "source": [
    "from keras.layers import Bidirectional, LSTM, Activation, Dense, TimeDistributed, Input, Lambda, Reshape, Dropout\n",
    "from keras.callbacks import LambdaCallback\n",
    "from keras.models import Sequential, Model\n",
    "from keras.optimizers import RMSprop\n",
    "import numpy as np\n",
    "import sys"
   ]
  },
  {
   "cell_type": "markdown",
   "metadata": {},
   "source": [
    "<p style=\"direction:rtl;text-align:right;font-family:'B Mitra';font-size:14pt\">\n",
    "پایگاه داده را به برنامه اضافه می‌کنیم:\n",
    "</p>"
   ]
  },
  {
   "cell_type": "code",
   "execution_count": 2,
   "metadata": {},
   "outputs": [],
   "source": [
    "data = open('shahnameh.txt', 'r').read().lower()"
   ]
  },
  {
   "cell_type": "code",
   "execution_count": 3,
   "metadata": {},
   "outputs": [
    {
     "name": "stdout",
     "output_type": "stream",
     "text": [
      "unique chars are:\n",
      " {'ز', 'آ', 'ٔ', 'ا', 'ش', '\\n', 'ه', 'ف', 'ئ', ')', '|', 'ص', 'غ', '(', 'ذ', 'ل', 'خ', 'م', ' ', 'ج', 'ع', 'ق', 'ث', 'د', 'ک', 'س', 'و', 'گ', 'چ', 'ژ', 'ض', 'ظ', 'ؤ', 'ب', 'ح', 'ی', '\\u200c', 'ر', 'پ', 'ن', '،', '؟', '»', 'أ', '«', 'ط', 'ت', 'ء'}\n"
     ]
    }
   ],
   "source": [
    "unique_chars = set(data)\n",
    "print('unique chars are:\\n', unique_chars)"
   ]
  },
  {
   "cell_type": "markdown",
   "metadata": {},
   "source": [
    "<p style=\"direction:rtl;text-align:right;font-family:'B Mitra';font-size:14pt\">\n",
    "همانطور که در سلول بالا می‌بینید کاراکترهای مختلفی درون فایل بکار رفته، که جزء حروف الفبای فارسی نیستند. \n",
    "<b>\n",
    "به نظر شما همه آن‌ها را باید نگه داریم؟ چرا؟ می‌توانید توضیح دهید؟\n",
    "</b>\n",
    "</p>"
   ]
  },
  {
   "cell_type": "markdown",
   "metadata": {},
   "source": [
    "<p style=\"direction:rtl;text-align:right;font-family:'B Mitra';font-size:14pt\">\n",
    "در یک پروژه یادگیری ماشین، مهم‌ترین بخش ایجاد و جمع‌آوری پایگاه داده است، ما برای شما پایگاه داده را به صورت خام جمع‌آوری کرده‌ایم. با استفاده از مقالات، توضیحات و یا استدلال مناسب \n",
    "<b>\n",
    "توضیح دهید که داده‌ها را چگونه برای شبکه آماده می‌کنید؟\n",
    "</b>\n",
    "در سلول پایین این کار را می‌توانید انجام دهید:\n",
    "</p>"
   ]
  },
  {
   "cell_type": "code",
   "execution_count": 4,
   "metadata": {},
   "outputs": [],
   "source": [
    "# make the X, Y for input and output target of model.\n",
    "# ----put your code here ------#\n"
   ]
  },
  {
   "cell_type": "markdown",
   "metadata": {},
   "source": [
    "<hr style=\"width:100%;height:1px\">"
   ]
  },
  {
   "cell_type": "markdown",
   "metadata": {},
   "source": [
    "<p style=\"direction:rtl;text-align:right;font-family:'B Mitra';font-size:14pt\">\n",
    "حال یک مدل مناسب برای داده‌های خود ایجاد نمایید.\n",
    "</p>"
   ]
  },
  {
   "cell_type": "code",
   "execution_count": 5,
   "metadata": {},
   "outputs": [],
   "source": [
    "# create yout network model.\n",
    "# ------------ write your code here--------------#\n",
    "\n"
   ]
  },
  {
   "cell_type": "markdown",
   "metadata": {},
   "source": [
    "<p style=\"direction:rtl;text-align:right;font-family:'B Mitra';font-size:14pt\">\n",
    "سعی کنید نمایی از مدل خود نشان دهید و سپس آن را با تابع هزینه مناسب کامپایل کنید\n",
    "</p>"
   ]
  },
  {
   "cell_type": "code",
   "execution_count": 6,
   "metadata": {},
   "outputs": [],
   "source": [
    "## ------write your code here ------- ###\n",
    "\n",
    "\n"
   ]
  },
  {
   "cell_type": "markdown",
   "metadata": {},
   "source": [
    "<p style=\"direction:rtl;text-align:right;font-family:'B Mitra';font-size:14pt\">\n",
    "حال در تعداد تکرارهای مناسب شبکه را آموزش دهید.\n",
    "</p>"
   ]
  },
  {
   "cell_type": "code",
   "execution_count": 7,
   "metadata": {},
   "outputs": [],
   "source": [
    "## ------write your code here ------- ###\n",
    "\n",
    "\n"
   ]
  },
  {
   "cell_type": "markdown",
   "metadata": {},
   "source": [
    "<p style=\"direction:rtl;text-align:right;font-family:'B Mitra';font-size:14pt\">\n",
    "یک دنباله مثلا ۱۰۰۰ کاراکتری توسط شبکه تولید کنید و بررسی کنید که شبکه‌ای که آموزش داده‌اید چه میزان موفق بوده است.\n",
    "نکاتی را که از خروجی  آن دیده‌اید را بهتر است در گزارش خود مطرح نمایید.\n",
    "</p>"
   ]
  },
  {
   "cell_type": "markdown",
   "metadata": {},
   "source": [
    "<hr style=\"width:100%;height:1px\">"
   ]
  },
  {
   "cell_type": "markdown",
   "metadata": {},
   "source": [
    "<p style=\"direction:rtl;text-align:left;font-family:'B Mitra';font-size:14pt\">\n",
    "<b>\n",
    "موفق باشید.\n",
    "</b>\n",
    "</p>"
   ]
  }
 ],
 "metadata": {
  "kernelspec": {
   "display_name": "Python 3",
   "language": "python",
   "name": "python3"
  },
  "language_info": {
   "codemirror_mode": {
    "name": "ipython",
    "version": 3
   },
   "file_extension": ".py",
   "mimetype": "text/x-python",
   "name": "python",
   "nbconvert_exporter": "python",
   "pygments_lexer": "ipython3",
   "version": "3.7.3"
  }
 },
 "nbformat": 4,
 "nbformat_minor": 2
}
