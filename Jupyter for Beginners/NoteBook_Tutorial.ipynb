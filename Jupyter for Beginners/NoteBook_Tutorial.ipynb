{
 "cells": [
  {
   "cell_type": "markdown",
   "metadata": {},
   "source": [
    "<p style=\"direction:rtl;text-align:justify;font-family:'B Yekan'\">\n",
    ".::به نام خداوند بخشنده و بخشایشگر مهربان::."
   ]
  },
  {
   "cell_type": "markdown",
   "metadata": {},
   "source": [
    "## Jupyter Notebook\n",
    "------------------------------------"
   ]
  },
  {
   "cell_type": "markdown",
   "metadata": {
    "slideshow": {
     "slide_type": "slide"
    }
   },
   "source": [
    "### Jupyter notebook:\n",
    "<p style=\"direction:rtl;text-align:justify;font-family:'B Yekan'\">\n",
    "ژوپیتر نوت‌بوک یک ابزار توسعه توسط پروژه \n",
    "Jupyter \n",
    "می‌باشد. هدف از پروژه \n",
    "Jupyter \n",
    "ایجاد و فراهم کردن محیط توسعه قدرتمند در کاربرد «علوم داده» است. ابزارهای مختلفی توسط این پروژه طراحی شده‌اند که می‌توانید از آن‌ها استفاده کنید. دو مورد مهم از این ابزارها عبارتند از:\n",
    "</p>\n",
    "\n",
    "* Ipython\n",
    "* Jupyter Notebook\n",
    "\n",
    "<p style=\"direction:rtl;text-align:justify;font-family:'B Yekan'\">\n",
    "ابزار \n",
    "Jupyter Notebook \n",
    "یک محیط توسعه با توانایی افزودن گزارش به برنامه است. همانطور که مشاهده می‌شود، محیط به صورت سلول سلول است که در هر سلول می‌توان بخش‌های مختلفی از کد و یا توضیحات را اضافه کرد.\n",
    "</p>\n",
    "<p style=\"direction:rtl;text-align:justify;font-family:'B Yekan'\">\n",
    "در بالای این صفحه آیکون‌های مختلفی را مشاهده می‌کنید، عملکرد آن‌ها به ترتیب از سمت چپ به راست به این شرح است:\n",
    "ذخیره کردن تغییرات جاری، ایجاد یک سلول جدید، برش یا \n",
    "cut \n",
    "کردن سلول، کپی کردن سلول جاری ، چساندن سلول کپی شده در پایین سلول جاری، و دو علامت پیکان برای جابجایی سلول جاری هستند. چهار دکمه بعدی برای اجرا، توقف سلول جاری تعبیه شده است.\n",
    "زبانه آخر که برای این سلول روی \n",
    "Markdown \n",
    "قرار دارد، نوع سلول را نشان می‌دهد. در این سلول که متن توضیحی آورده‌ایم برای نمایش مناسب و قالب بندی متن از سلول‌های \n",
    "Markdown \n",
    "استفاده می‌کنیم و برای سلول‌هایی که می‌خواهیم در آن کد بنویسیم باید از سلول \n",
    "code \n",
    "استفاده کنیم.\n",
    "</p>\n",
    "<p style=\"direction:rtl;text-align:justify;font-family:'B Yekan'\">\n",
    "برای نصب \n",
    "jupyter-notebook \n",
    "از دستور زیر استفاده می‌کنیم:\n",
    "</p>\n",
    "\n",
    "> **_pip install jupyter_**\n",
    "\n",
    "<p style=\"direction:rtl;text-align:justify;font-family:'B Yekan'\">\n",
    "در پایین یک نمونه سلول کد نشان داده شده است:\n",
    "</p>"
   ]
  },
  {
   "cell_type": "code",
   "execution_count": 4,
   "metadata": {
    "slideshow": {
     "slide_type": "fragment"
    }
   },
   "outputs": [
    {
     "name": "stdout",
     "output_type": "stream",
     "text": [
      "Hello world!\n"
     ]
    }
   ],
   "source": [
    "# This is an example demonestrated how jupyter-notebook works:\n",
    "print (\"Hello world!\")"
   ]
  },
  {
   "cell_type": "markdown",
   "metadata": {},
   "source": [
    "<p style=\"direction:rtl;text-align:justify;font-family:'B Yekan'\">\n",
    "برای این که سلول بالا را ویرایش کنیم روی سلول دوبار کلیک کنید تا به حالت ویرایش دربیاید، سپس با استفاده از کلید \n",
    "Run \n",
    "دربالا و یا کلید \n",
    "cntrl+Enter و یا shift+Enter \n",
    "سلول را اجرا نمایید.\n",
    "</p>\n",
    "<p style=\"direction:rtl;text-align:justify;font-family:'B Yekan'\">\n",
    "برای نوشتن توضیحات می‌توانید از قالب‌بندی \n",
    "Markdown \n",
    "استفاده کنید:\n",
    "</p>"
   ]
  },
  {
   "cell_type": "markdown",
   "metadata": {
    "slideshow": {
     "slide_type": "slide"
    }
   },
   "source": [
    "<p style=\"direction:rtl;text-align:justify;font-family:'B Yekan'\">\n",
    "**مارک داون چیست؟**  \n",
    "مارک داون یک زبان اسکریپت نویسی هست که می‌تواند یک متن ساده یا\n",
    "plain text \n",
    "را قالب بندی کند.\n",
    "همچنان که مشاهده می‌کنید در اینجا یک متن ساده به صورت راست‌چین تراز شده و دارای عنوان درشت می‌باشد. برای مشاهده توضیحات می‌توانید به روی سلول دوبار کلیک کنید تا نحوه نوشتن را مشاهده کنید.\n",
    "\n",
    "برای مطالعه بیشتر درباره Markdown به پیوندهای زیر مراجعه کنید:\n",
    "</p>\n",
    "\n",
    "[خود آموز سریع مارک داون](https://github.com/adam-p/markdown-here/wiki/Markdown-Cheatsheet/)\n"
   ]
  },
  {
   "cell_type": "markdown",
   "metadata": {},
   "source": [
    "<p style=\"direction:rtl;text-align:justify;font-family:'B Yekan'\">\n",
    "متاسفانه مارک‌داون به صورت پیشفرض از زبان فارسی به درستی پشتیبانی نمی‌کند، برای نوشتن فارسی از دستورات \n",
    "html \n",
    "نیز می‌توان استفاده کرد.\n",
    "در اینجا تگی که استفاده شده است به صورت زیر است:\n",
    "</p>\n",
    "\n",
    ">```html\n",
    "<p style=\"direction:rtl;text-align:justify;font-family:'B Yekan'\">\n",
    "متن فارسی\n",
    "</p>\n",
    "```"
   ]
  },
  {
   "cell_type": "markdown",
   "metadata": {
    "slideshow": {
     "slide_type": "slide"
    }
   },
   "source": [
    "-----------------------------\n",
    "<p style=\"direction:rtl;text-align:justify;font-family:'B Yekan'\">\n",
    "<b> مثال ساده از یک تمرین: </b>\n",
    "</p>"
   ]
  },
  {
   "cell_type": "markdown",
   "metadata": {},
   "source": [
    "<p style='direction:rtl;text-align:right'>\n",
    "<b>نام و نام خانوادگی:</b>\n",
    "</p>"
   ]
  },
  {
   "cell_type": "markdown",
   "metadata": {},
   "source": [
    "-"
   ]
  },
  {
   "cell_type": "markdown",
   "metadata": {},
   "source": [
    "<p style='direction:rtl;text-align:right'>\n",
    "<b>شماره دانشجویی:</b>\n",
    "</p>"
   ]
  },
  {
   "cell_type": "markdown",
   "metadata": {},
   "source": [
    "-"
   ]
  },
  {
   "cell_type": "markdown",
   "metadata": {},
   "source": [
    "<p style='direction:rtl;text-align:right'>\n",
    "<b>مثال:</b>\n",
    "مجموع اعداد اول کمتر از ۱۰۰۰ را بدست آورید.  \n",
    "\n",
    "<b> دستور العمل: </b>  \n",
    "\n",
    "۱- ابتدا تابع <b>_isprime_</b> را برای بررسی اول بودن یک عدد بنویسید:\n",
    "</p>"
   ]
  },
  {
   "cell_type": "code",
   "execution_count": 21,
   "metadata": {},
   "outputs": [],
   "source": [
    "def isprime(x):\n",
    "    prime = True\n",
    "    # write your codes here:\n",
    "    if x % 2 == 0 and x > 2:\n",
    "        prime = False\n",
    "    else:\n",
    "        for i in range(3, int(x**0.5)+1, 2):\n",
    "            if x % i == 0:\n",
    "                prime = False\n",
    "                break\n",
    "    \n",
    "    \n",
    "    return prime"
   ]
  },
  {
   "cell_type": "markdown",
   "metadata": {},
   "source": [
    "<p style='direction:rtl;text-align:right'>\n",
    "۲- حال تابعی را که نوشتید را امتحان نمایید:\n",
    "</p>"
   ]
  },
  {
   "cell_type": "code",
   "execution_count": 22,
   "metadata": {
    "scrolled": false
   },
   "outputs": [
    {
     "name": "stdout",
     "output_type": "stream",
     "text": [
      "output for primes: True True True \n",
      "output for non primes: False False False "
     ]
    }
   ],
   "source": [
    "primes = [2, 7, 23]\n",
    "non_primes = [4, 15, 39]\n",
    "\n",
    "print('output for primes', end=': ')\n",
    "for i in primes:\n",
    "    print(isprime(i),end=' ')\n",
    "    \n",
    "print('\\noutput for non primes', end=': ')\n",
    "for i in non_primes:\n",
    "    print(isprime(i),end=' ')"
   ]
  },
  {
   "cell_type": "markdown",
   "metadata": {},
   "source": [
    "<p style='direction:rtl;text-align:right'>\n",
    "۳- در صورتی که خروجی بالا درست بود ادامه برنامه‌ی زیر را کامل کنید:\n",
    "</p>"
   ]
  },
  {
   "cell_type": "code",
   "execution_count": 23,
   "metadata": {},
   "outputs": [
    {
     "name": "stdout",
     "output_type": "stream",
     "text": [
      "I think the anwser is 76128\n"
     ]
    }
   ],
   "source": [
    "primes_sum = 0\n",
    "for i in range(1000):\n",
    "    # put your code here:\n",
    "    primes_sum += i if isprime(i) else 0\n",
    "    continue\n",
    "\n",
    "print ('I think the anwser is %d' %(primes_sum))"
   ]
  },
  {
   "cell_type": "markdown",
   "metadata": {},
   "source": [
    "** License: [GNU Free Documentation License](http://www.gnu.org/copyleft/fdl.html) **  \n",
    "[Author](https://github.com/sajed68)"
   ]
  }
 ],
 "metadata": {
  "celltoolbar": "Raw Cell Format",
  "kernelspec": {
   "display_name": "Python 3",
   "language": "python",
   "name": "python3"
  },
  "language_info": {
   "codemirror_mode": {
    "name": "ipython",
    "version": 3
   },
   "file_extension": ".py",
   "mimetype": "text/x-python",
   "name": "python",
   "nbconvert_exporter": "python",
   "pygments_lexer": "ipython3",
   "version": "3.7.3"
  },
  "widgets": {
   "application/vnd.jupyter.widget-state+json": {
    "state": {},
    "version_major": 1,
    "version_minor": 0
   }
  }
 },
 "nbformat": 4,
 "nbformat_minor": 2
}
