{
 "cells": [
  {
   "cell_type": "markdown",
   "metadata": {},
   "source": [
    "<h1 style='direction:rtl;text-align:justify;font-family:\"B yekan\";font-size:14pt'>\n",
    "اعداد در پایتون\n",
    "</h1>\n",
    "<p style='direction:rtl;text-align:justify;font-family:\"B Koodak\";font-size:12pt'>\n",
    "این بخش درباره اعداد در پایتون و نحوه استفاده از آن‌ها است.  \n",
    "لیست زیر مطالبی است که در این بخش خواهیم دید:\n",
    "</p>\n",
    "\n",
    "><ol style='direction:rtl;text-align:justify;font-family:\"B yekan\";font-size:11pt'>\n",
    "<li>\n",
    "انواع اعداد در پایتون\n",
    "</li>\n",
    "<li> \n",
    "عملیات عددی پایه‌ای\n",
    "</li>\n",
    "<li> \n",
    "تفاوت تقسیم معمولی و تقسیم صحیح\n",
    "</li>\n",
    "<li> \n",
    "انتسابِ یک شی در پایتون\n",
    "</li>\n",
    "</ol>\n",
    "\n"
   ]
  },
  {
   "cell_type": "markdown",
   "metadata": {},
   "source": [
    "\n",
    "<h2 style='direction:rtl;text-align:justify;font-family:\"B yekan\";font-size:14pt'>\n",
    "انواع اعداد\n",
    "</h2>\n",
    "\n",
    "<p style='direction:rtl;text-align:justify;font-family:\"B Koodak\";font-size:12pt'>\n",
    "اعداد در پایتون «انواع» مختلفی دارند. در اینجا هدف کلی روی اعداد «صحیح» و «ممیز» شناور است.   \n",
    "اعداد صحیح یک عدد مثبت یا منفی هستند، بدون هیچ بخش اعشاری و یا نماد علمی.  \n",
    "اعداد ممیز شناور در پایتون به دو گونه هستند: یا همراه بخش اعشاری و یا با یک بخش نمایی:\n",
    "<mark style='background:rgb(200,200,200);font-family:\"Tahoma\";font-size:10pt'>\n",
    "4.2\n",
    "</mark> \n",
    "یا\n",
    "<mark style='background:rgb(200,200,200);font-family:\"Tahoma\";font-size:10pt'>\n",
    "4E15\n",
    "</mark>  \n",
    "به طور معمول با این جنس اعداد سر و کار داریم. هر چند که انواع عددی دیگری نیز در دسترس هستند، ولی فعلا به همین اعداد اکتفا می‌کنیم. در جدول زیر چند مثال آمده است:\n",
    "</p>"
   ]
  },
  {
   "cell_type": "markdown",
   "metadata": {},
   "source": [
    "<table>\n",
    "<tr>\n",
    "    <th>Examples</th> \n",
    "    <th>Number \"Type\"</th>\n",
    "</tr>\n",
    "\n",
    "<tr>\n",
    "    <td>1,2,-5,1000</td>\n",
    "    <td>Integers</td> \n",
    "</tr>\n",
    "\n",
    "<tr>\n",
    "    <td>1.2,-0.5,2e2,3E2</td> \n",
    "    <td>Floating-point numbers</td> \n",
    "</tr>\n",
    " </table>"
   ]
  },
  {
   "cell_type": "code",
   "execution_count": 4,
   "metadata": {},
   "outputs": [
    {
     "data": {
      "text/plain": [
       "1234567889007.5066"
      ]
     },
     "execution_count": 4,
     "metadata": {},
     "output_type": "execute_result"
    }
   ],
   "source": [
    "a = 1234567889007.50656546456456456456\n",
    "a"
   ]
  },
  {
   "cell_type": "markdown",
   "metadata": {},
   "source": [
    "<p style='direction:rtl;text-align:justify;font-family:\"B Koodak\";font-size:12pt'>\n",
    "حال بیایید چند عملیات ریاضی را در مرور کنیم:\n",
    "</p>"
   ]
  },
  {
   "cell_type": "markdown",
   "metadata": {},
   "source": [
    "### عملیات پایه‌ای"
   ]
  },
  {
   "cell_type": "code",
   "execution_count": 6,
   "metadata": {},
   "outputs": [
    {
     "data": {
      "text/plain": [
       "3"
      ]
     },
     "execution_count": 6,
     "metadata": {},
     "output_type": "execute_result"
    }
   ],
   "source": [
    "# Addition\n",
    "2+1"
   ]
  },
  {
   "cell_type": "code",
   "execution_count": 3,
   "metadata": {},
   "outputs": [
    {
     "data": {
      "text/plain": [
       "1"
      ]
     },
     "execution_count": 3,
     "metadata": {},
     "output_type": "execute_result"
    }
   ],
   "source": [
    "# Subtraction\n",
    "2-1"
   ]
  },
  {
   "cell_type": "code",
   "execution_count": 4,
   "metadata": {},
   "outputs": [
    {
     "data": {
      "text/plain": [
       "4"
      ]
     },
     "execution_count": 4,
     "metadata": {},
     "output_type": "execute_result"
    }
   ],
   "source": [
    "# Multiplication\n",
    "2*2"
   ]
  },
  {
   "cell_type": "code",
   "execution_count": 5,
   "metadata": {},
   "outputs": [
    {
     "data": {
      "text/plain": [
       "1.5"
      ]
     },
     "execution_count": 5,
     "metadata": {},
     "output_type": "execute_result"
    }
   ],
   "source": [
    "# Division\n",
    "3/2"
   ]
  },
  {
   "cell_type": "code",
   "execution_count": 8,
   "metadata": {},
   "outputs": [
    {
     "data": {
      "text/plain": [
       "1.0"
      ]
     },
     "execution_count": 8,
     "metadata": {},
     "output_type": "execute_result"
    }
   ],
   "source": [
    "# Floor Division\n",
    "7//4.0"
   ]
  },
  {
   "cell_type": "markdown",
   "metadata": {},
   "source": [
    "<p style='direction:rtl;text-align:justify;font-family:\"B Koodak\";font-size:12pt'>\n",
    "<b>\n",
    "چه اتفاقی افتاد؟ به نظر ۷ تقسیم بر ۴ ۱/۷۵ می‌شد نه ۱؟\n",
    "</b>  \n",
    "علت این است که عملگر \n",
    "<mark style='background:rgb(200,200,200);font-family:\"Tahoma\";font-size:10pt'>\n",
    "//\n",
    "</mark> \n",
    "تقسیم \n",
    "<b>\n",
    "جزء صحیح\n",
    "</b>\n",
    "است و باقیمانده تقسیم را به بزرگترین عدد صحیح کوچکتر از آن گرد می‌کند.  \n",
    "بگذارید چند مثال زیر را هم ببینیم:\n",
    "</p>"
   ]
  },
  {
   "cell_type": "code",
   "execution_count": 9,
   "metadata": {},
   "outputs": [
    {
     "data": {
      "text/plain": [
       "int"
      ]
     },
     "execution_count": 9,
     "metadata": {},
     "output_type": "execute_result"
    }
   ],
   "source": [
    "type(7)"
   ]
  },
  {
   "cell_type": "code",
   "execution_count": 10,
   "metadata": {},
   "outputs": [
    {
     "data": {
      "text/plain": [
       "float"
      ]
     },
     "execution_count": 10,
     "metadata": {},
     "output_type": "execute_result"
    }
   ],
   "source": [
    "type(7/4)"
   ]
  },
  {
   "cell_type": "code",
   "execution_count": 11,
   "metadata": {},
   "outputs": [
    {
     "data": {
      "text/plain": [
       "float"
      ]
     },
     "execution_count": 11,
     "metadata": {},
     "output_type": "execute_result"
    }
   ],
   "source": [
    "type(7.0)"
   ]
  },
  {
   "cell_type": "code",
   "execution_count": 12,
   "metadata": {},
   "outputs": [
    {
     "data": {
      "text/plain": [
       "int"
      ]
     },
     "execution_count": 12,
     "metadata": {},
     "output_type": "execute_result"
    }
   ],
   "source": [
    "type(7//4)"
   ]
  },
  {
   "cell_type": "code",
   "execution_count": 15,
   "metadata": {},
   "outputs": [
    {
     "data": {
      "text/plain": [
       "float"
      ]
     },
     "execution_count": 15,
     "metadata": {},
     "output_type": "execute_result"
    }
   ],
   "source": [
    "type(7//4.0)"
   ]
  },
  {
   "cell_type": "markdown",
   "metadata": {},
   "source": [
    "**حالا اگر باقیمانده را خواستیم چکار کنیم؟**"
   ]
  },
  {
   "cell_type": "code",
   "execution_count": 10,
   "metadata": {},
   "outputs": [
    {
     "data": {
      "text/plain": [
       "3.0"
      ]
     },
     "execution_count": 10,
     "metadata": {},
     "output_type": "execute_result"
    }
   ],
   "source": [
    "# Modulo\n",
    "7%4.0"
   ]
  },
  {
   "cell_type": "markdown",
   "metadata": {},
   "source": [
    "عملگر \n",
    "`%` \n",
    "باقیمانده تقسیم را برمی‌گرداند."
   ]
  },
  {
   "cell_type": "markdown",
   "metadata": {},
   "source": [
    "### ادامه عملیات ریاضی"
   ]
  },
  {
   "cell_type": "code",
   "execution_count": 12,
   "metadata": {},
   "outputs": [
    {
     "data": {
      "text/plain": [
       "8"
      ]
     },
     "execution_count": 12,
     "metadata": {},
     "output_type": "execute_result"
    }
   ],
   "source": [
    "# Powers\n",
    "2**3"
   ]
  },
  {
   "cell_type": "code",
   "execution_count": 8,
   "metadata": {},
   "outputs": [
    {
     "data": {
      "text/plain": [
       "2.0"
      ]
     },
     "execution_count": 8,
     "metadata": {},
     "output_type": "execute_result"
    }
   ],
   "source": [
    "# Can also do roots this way\n",
    "4**0.5"
   ]
  },
  {
   "cell_type": "code",
   "execution_count": 9,
   "metadata": {},
   "outputs": [
    {
     "data": {
      "text/plain": [
       "105"
      ]
     },
     "execution_count": 9,
     "metadata": {},
     "output_type": "execute_result"
    }
   ],
   "source": [
    "# Order of Operations followed in Python\n",
    "2 + 10 * 10 + 3"
   ]
  },
  {
   "cell_type": "code",
   "execution_count": 10,
   "metadata": {},
   "outputs": [
    {
     "data": {
      "text/plain": [
       "156"
      ]
     },
     "execution_count": 10,
     "metadata": {},
     "output_type": "execute_result"
    }
   ],
   "source": [
    "# Can use parentheses to specify orders\n",
    "(2+10) * (10+3)"
   ]
  },
  {
   "cell_type": "markdown",
   "metadata": {},
   "source": [
    "## Variable Assignments\n",
    "<h2 style='direction:rtl;text-align:justify;font-family:\"B yekan\";font-size:14pt'>\n",
    "انتساب یک متغیر\n",
    "</h2>\n",
    "<p style='direction:rtl;text-align:justify;font-family:\"B Koodak\";font-size:12pt'>\n",
    "تا الان ما فهمیدیم که از پایتون چطوری به صورت یک ماشین حساب استفاده کنیم.\n",
    "حالا بگذارید متغیر ایجاد کنیم.  \n",
    "ما از یک علامت تساوی برای انتساب استفاده می‌کنیم.\n",
    "</p>"
   ]
  },
  {
   "cell_type": "code",
   "execution_count": 16,
   "metadata": {},
   "outputs": [],
   "source": [
    "# Let's create an object called \"a\" and assign it the number 5\n",
    "a = 5"
   ]
  },
  {
   "cell_type": "markdown",
   "metadata": {},
   "source": [
    "Now if I call *a* in my Python script, Python will treat it as the number 5."
   ]
  },
  {
   "cell_type": "code",
   "execution_count": 17,
   "metadata": {},
   "outputs": [
    {
     "data": {
      "text/plain": [
       "10"
      ]
     },
     "execution_count": 17,
     "metadata": {},
     "output_type": "execute_result"
    }
   ],
   "source": [
    "# Adding the objects\n",
    "a+a"
   ]
  },
  {
   "cell_type": "markdown",
   "metadata": {},
   "source": [
    "What happens on reassignment? Will Python let us write it over?"
   ]
  },
  {
   "cell_type": "code",
   "execution_count": 13,
   "metadata": {},
   "outputs": [],
   "source": [
    "# Reassignment\n",
    "a = 10.0"
   ]
  },
  {
   "cell_type": "code",
   "execution_count": 14,
   "metadata": {},
   "outputs": [
    {
     "data": {
      "text/plain": [
       "10.0"
      ]
     },
     "execution_count": 14,
     "metadata": {},
     "output_type": "execute_result"
    }
   ],
   "source": [
    "# Check\n",
    "a"
   ]
  },
  {
   "cell_type": "markdown",
   "metadata": {},
   "source": [
    "Yes! Python allows you to write over assigned variable names. We can also use the variables themselves when doing the reassignment. Here is an example of what I mean:"
   ]
  },
  {
   "cell_type": "code",
   "execution_count": 20,
   "metadata": {},
   "outputs": [
    {
     "data": {
      "text/plain": [
       "10"
      ]
     },
     "execution_count": 20,
     "metadata": {},
     "output_type": "execute_result"
    }
   ],
   "source": [
    "# Check\n",
    "a"
   ]
  },
  {
   "cell_type": "code",
   "execution_count": 15,
   "metadata": {},
   "outputs": [],
   "source": [
    "# Use A to redefine A\n",
    "a = a + a"
   ]
  },
  {
   "cell_type": "code",
   "execution_count": 16,
   "metadata": {},
   "outputs": [
    {
     "data": {
      "text/plain": [
       "20.0"
      ]
     },
     "execution_count": 16,
     "metadata": {},
     "output_type": "execute_result"
    }
   ],
   "source": [
    "# Check \n",
    "a"
   ]
  },
  {
   "cell_type": "markdown",
   "metadata": {},
   "source": [
    "### The names you use when creating these labels need to follow a few rules:\n",
    "\n",
    "\n",
    "\n",
    ">  1. Names can not start with a number.\n",
    ">  2. There can be no spaces in the name, use `_` instead.\n",
    ">  3. Can't use any of these symbols :`'` `\"` `,` `<` `>` `/` `?` `|` `\\` `(` `)` `!` `@` `#` `$` `%` `^` `&` `*` `~` `-` `+`\n",
    ">  4. It's considered best practice (`PEP8`) that names are `lowercase` or `CapWord`.\n",
    ">  5. Avoid using the characters `'l'` (lowercase letter el), `'O'` (uppercase letter oh), \n",
    "   or 'I' (uppercase letter eye) as single character variable names.\n",
    ">  6. Avoid using words that have special meaning in Python like \"`list`\" and \"`str`\"; if you are in force, make difference by underscor, like: \"`class_`\" and _avoid to misspell word_ like \"`clss`\"\n",
    "\n",
    "\n",
    "Using variable names can be a very useful way to keep track of different variables in Python. For example:"
   ]
  },
  {
   "cell_type": "code",
   "execution_count": 17,
   "metadata": {},
   "outputs": [],
   "source": [
    "# Use object names to keep better track of what's going on in your code!\n",
    "my_income = 100\n",
    "\n",
    "tax_rate = 0.1\n",
    "\n",
    "my_taxes = my_income*tax_rate"
   ]
  },
  {
   "cell_type": "code",
   "execution_count": 18,
   "metadata": {},
   "outputs": [
    {
     "data": {
      "text/plain": [
       "10.0"
      ]
     },
     "execution_count": 18,
     "metadata": {},
     "output_type": "execute_result"
    }
   ],
   "source": [
    "# Show my taxes!\n",
    "my_taxes"
   ]
  },
  {
   "cell_type": "markdown",
   "metadata": {},
   "source": [
    "So what have we learned? We learned some of the basics of numbers in Python. We also learned how to do arithmetic and use Python as a basic calculator. We then wrapped it up with learning about Variable Assignment in Python.\n",
    "\n",
    "Up next we'll learn about Strings!"
   ]
  }
 ],
 "metadata": {
  "anaconda-cloud": {},
  "kernelspec": {
   "display_name": "Python 3",
   "language": "python",
   "name": "python3"
  },
  "language_info": {
   "codemirror_mode": {
    "name": "ipython",
    "version": 3
   },
   "file_extension": ".py",
   "mimetype": "text/x-python",
   "name": "python",
   "nbconvert_exporter": "python",
   "pygments_lexer": "ipython3",
   "version": "3.7.3"
  }
 },
 "nbformat": 4,
 "nbformat_minor": 2
}
