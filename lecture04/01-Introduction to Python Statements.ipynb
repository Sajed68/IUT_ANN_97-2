{
 "cells": [
  {
   "cell_type": "markdown",
   "metadata": {
    "slideshow": {
     "slide_type": "slide"
    }
   },
   "source": [
    "# Introduction to Python Statements\n",
    "<h1  style='direction:rtl;text-align:justify;font-family:\"B zar\"'>\n",
    "عبارت‌ها در پایتون\n",
    "</h1>\n",
    "<p style='direction:rtl;text-align:justify;font-family:\"B zar\";font-size:14pt;line-height:1.3.pt'>\n",
    "در ان بخش ما یک نگاه گذرا به عبارت‌ها در پایتون می‌اندازیم. هدف اصلی ما درک تفاوت بین پایتون و زبان‌های دیگری مثل متلب و ++c \n",
    "است.\n",
    "</p>\n",
    "<p style='direction:rtl;text-align:justify;font-family:\"B zar\";font-size:14pt;line-height:1.3.pt'>\n",
    "دو علت است که ما می‌خواهیم عبارات را یاد بگیریم:  \n",
    "<ol style='direction:rtl;text-align:justify;font-family:\"B zar\";font-size:14pt;line-height:1.3.pt'>\n",
    "<li> \n",
    "اگر شما از یک زبان دیگر به پایتون آمده باشید، با درک این عبارت‌ها به سرعت کدنویسی پایتون را یاد می‌گیرید.\n",
    "</li>\n",
    "<li>\n",
    "این که عبارت‌ها را یاد بگیرید به شما این کمک را خواهد کرد که بتوانید زبان‌های دیگر را هم به راحتی فرابگیرید.\n",
    "</li>\n",
    "</ol>\n",
    "</p>"
   ]
  },
  {
   "cell_type": "markdown",
   "metadata": {
    "slideshow": {
     "slide_type": "slide"
    }
   },
   "source": [
    "<h2 style='direction:rtl;text-align:justify;font-family:\"B zar\"'>\n",
    "پایتون دربرابر دیگر زبان‌ها\n",
    "</h2>\n",
    "\n",
    "<p style='direction:rtl;text-align:justify;font-family:\"B zar\";font-size:14pt;line-height:1.3.pt'>\n",
    "بیاید یک عبارت ساده را بسازیم که می‌گوید:\n",
    "<code style='direction:rtl;text-align:justify;font-family:\"B zar\";font-size:14pt;line-height:1.3.pt'> اگر a بزرگ‌تر از b باشد، مقدار ۲ را در a و ۴ را در b قرار بده\n",
    "</code>\n",
    "</p>\n",
    "\n",
    "\n",
    "**Version 1 (Other Languages like C++)**\n",
    "\n",
    "```c++\n",
    "\n",
    "    if (a>b){\n",
    "        a = 2;\n",
    "        b = 4;\n",
    "    }\n",
    "```\n",
    "\n",
    "**Version 1.5 (Other Languages like MATLAB)**\n",
    "\n",
    "```Octave\n",
    "\n",
    "   if a > b\n",
    "      a = 2;\n",
    "      b = 4\n",
    "   end\n",
    "   \n",
    "```\n",
    "\n",
    "**Version 2 (Python)**   \n",
    "\n",
    "```python\n",
    "    if a>b:\n",
    "        a = 2\n",
    "        b = 4\n",
    "```"
   ]
  },
  {
   "cell_type": "markdown",
   "metadata": {},
   "source": [
    "<p style='direction:rtl;text-align:justify;font-family:\"B zar\";font-size:14pt;line-height:1.3.pt'>\n",
    "حتما متوجه شدید که چیزی که تو پایتون هست خیلی ساده‌تر و خواناتر هست. به نظرتان چرا اینطور به نظر می‌رسد؟  \n",
    "بیایید روی تفاوت‌های اساسی بحث کنیم. در پایتون از شر {} و  () خلاص شدیم و خوانایی کد با همراه شدن دو  چیز جدید ایجاد می‌شود: <code>: </code> و دیگری <code style='direction:rtl;text-align:justify;font-family:\"B zar\";font-size:14pt;line-height:1.3.pt'> فاصله یا تو رفتگی </code>. \n",
    "تفاوت اصلی دیگری که هست، عدم نیاز به ویرگول نقطه در انتهای کد و یا عبارت \n",
    "end \n",
    "برای مشخص کردن اتمام بلوک این عبارت‌ها است.   \n",
    "الان در مورد تورفتگی گفتیم، باید بدانید که این تورفتگی‌ها موضوع مهمی در کد پایتون هستند که می‌توانند در خوانا بودن کدی که می‌نویسید موثر باشند.\n",
    "</p>\n",
    "\n",
    "<h2 style='direction:rtl;text-align:justify;font-family:\"B zar\";font-size:14pt;line-height:1.3.pt'>\n",
    "تو رفتگی یا Indentation\n",
    "</h2>\n",
    "\n",
    "\n",
    "**Other Languages**\n",
    "```c++\n",
    "    if (x)\n",
    "        if(y)\n",
    "            code-statement;\n",
    "    else\n",
    "        another-code-statement;\n",
    "```\n",
    "\n",
    "**Python**\n",
    "```python \n",
    "    if x:\n",
    "        if y:\n",
    "            code-statement\n",
    "    else:\n",
    "        another-code-statement\n",
    "    statement2\n",
    "```"
   ]
  },
  {
   "cell_type": "markdown",
   "metadata": {},
   "source": [
    "<p style='direction:rtl;text-align:justify;font-family:\"B zar\";font-size:14pt;line-height:1.3.pt'>\n",
    "حواستان باشد که پایتون به شدت به تو رفتگی‌ها و فاصله‌ها حساس است. این یعنی هسته اصلی طراحی زبان پایتون، خوانایی کد است. حالا بگذارید کمی عمیق‌تر به موضوع شویم:\n",
    "</p>"
   ]
  },
  {
   "cell_type": "markdown",
   "metadata": {},
   "source": [
    "<h2 style='direction:rtl;text-align:justify;font-family:\"B zar\"'>\n",
    "بریم کد بزنیم!\n",
    "</h2>"
   ]
  }
 ],
 "metadata": {
  "kernelspec": {
   "display_name": "Python 3",
   "language": "python",
   "name": "python3"
  },
  "language_info": {
   "codemirror_mode": {
    "name": "ipython",
    "version": 3
   },
   "file_extension": ".py",
   "mimetype": "text/x-python",
   "name": "python",
   "nbconvert_exporter": "python",
   "pygments_lexer": "ipython3",
   "version": "3.7.3"
  }
 },
 "nbformat": 4,
 "nbformat_minor": 2
}
