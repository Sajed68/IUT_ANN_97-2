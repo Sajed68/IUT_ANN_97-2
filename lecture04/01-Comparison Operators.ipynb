{
 "cells": [
  {
   "cell_type": "markdown",
   "metadata": {},
   "source": [
    "<h1 style='direction:rtl;text-align:justify;font-family:\"B zar\"'>\n",
    "علمگرهای مقایسه‌ای\n",
    "</h1>\n",
    "\n",
    "<p style='direction:rtl;text-align:justify;font-family:\"B zar\";font-size:16pt;line-height:1.3.pt'>\n",
    "در این بخش می‌خواهیم علمگرهای مقایسه‌ای را یاد بگیریم. این عملگرها به ما این امکان را می‌دهند که \n",
    "بتوانیم متغیرها را مقایسه کنیم و به ما خروجی‌ای می‌دهد که یا درست است یا غلط یعنی \n",
    "True/False  \n",
    "</p>\n",
    "<p style='direction:rtl;text-align:justify;font-family:\"B zar\";font-size:16pt;line-height:1.3.pt'>\n",
    "اگر شما پیش زمینه‌ای از ریاضیات داشته باشید، این بخش برایتان عین آب خوردن خواهد بود.\n",
    "اول بیایید یک جدول آماده کنیم از عملگرهای مقاسه‌ای با یکسری مثال:\n",
    "</p>\n",
    "\n",
    "\n",
    "\n",
    "\n",
    "<h2 style='direction:rtl;text-align:justify;font-family:\"B zar\"'> جدول عملگرهای مقایسه‌ای </h2>\n",
    "<p style='direction:rtl;text-align:justify;font-family:\"B zar\";font-size:16pt;line-height:1.3.pt'>  در جدول پایین فرض کنید a=3 و b=4 باشند.</p>\n",
    "\n",
    "<table class=\"table table-bordered\">\n",
    "<tr>\n",
    "<th style=\"width:10%\">عملگر</th><th style=\"width:45%\">توضیح</th><th>مثال</th>\n",
    "</tr>\n",
    "<tr>\n",
    "<td>==</td>\n",
    "<td style='direction:rtl;text-align:justify;font-family:\"B zar\";font-size:14pt'>اگر مقدار دو عملوند برابر باشند، شرط درست می‌شود.</td>\n",
    "<td> (a == b) is not true.</td>\n",
    "</tr>\n",
    "<tr>\n",
    "<td>!=</td>\n",
    "<td style='direction:rtl;text-align:justify;font-family:\"B zar\";font-size:14pt'> اگر مقدار دو عملوند برابر نباشند، شرط درست می‌شود.</td>\n",
    "<td>(a != b) is true</td>\n",
    "</tr>\n",
    "<tr>\n",
    "<td>&gt;</td>\n",
    "<td style='direction:rtl;text-align:justify;font-family:\"B zar\";font-size:14pt'>اگر مقدار عملوند سمت چپ بزرگتر از عملوند سمت راست باشد، در این صورت شرط درست است.</td>\n",
    "<td> (a &gt; b) is not true.</td>\n",
    "</tr>\n",
    "<tr>\n",
    "<td>&lt;</td>\n",
    "<td style='direction:rtl;text-align:justify;font-family:\"B zar\";font-size:14pt'>اگر مقدار عملوند سمت چپ کمتر از عملوند سمت راست باشد، شرط درست می‌شود.</td>\n",
    "<td> (a &lt; b) is true.</td>\n",
    "</tr>\n",
    "<tr>\n",
    "<td>&gt;=</td>\n",
    "<td style='direction:rtl;text-align:justify;font-family:\"B zar\";font-size:14pt'>اگر مقدار عملوند سمت چپ بزرگتر از یا مساوی با عملوند سمت راست باشد، شرط درست خواهد بود.</td>\n",
    "<td> (a &gt;= b) is not true. </td>\n",
    "</tr>\n",
    "<tr>\n",
    "<td>&lt;=</td>\n",
    "<td style='direction:rtl;text-align:justify;font-family:\"B zar\";font-size:14pt'>اگر عملوند سمت چپ کمتر از یا مساوی با عملوند سمت راست بود، شرط درست است.\n",
    "</td>\n",
    "<td> (a &lt;= b) is true. </td>\n",
    "</tr>\n",
    "</table>"
   ]
  },
  {
   "cell_type": "markdown",
   "metadata": {},
   "source": [
    "<p style='direction:rtl;text-align:justify;font-family:\"B zar\";font-size:16pt;line-height:1.3.pt'>\n",
    "بیایید چندتا مثال سریع ببینیم.\n",
    "</p>\n",
    "<h3 style='direction:rtl;text-align:justify;font-family:\"B zar\";font-size:16pt;line-height:1.3.pt'>\n",
    "تساوی\n",
    "</h3>"
   ]
  },
  {
   "cell_type": "code",
   "execution_count": 1,
   "metadata": {},
   "outputs": [
    {
     "data": {
      "text/plain": [
       "True"
      ]
     },
     "execution_count": 1,
     "metadata": {},
     "output_type": "execute_result"
    }
   ],
   "source": [
    "2 == 2"
   ]
  },
  {
   "cell_type": "code",
   "execution_count": 2,
   "metadata": {},
   "outputs": [
    {
     "data": {
      "text/plain": [
       "False"
      ]
     },
     "execution_count": 2,
     "metadata": {},
     "output_type": "execute_result"
    }
   ],
   "source": [
    "1 == 0"
   ]
  },
  {
   "cell_type": "code",
   "execution_count": 3,
   "metadata": {},
   "outputs": [
    {
     "ename": "SyntaxError",
     "evalue": "can't assign to literal (<ipython-input-3-113410380e79>, line 1)",
     "output_type": "error",
     "traceback": [
      "\u001b[0;36m  File \u001b[0;32m\"<ipython-input-3-113410380e79>\"\u001b[0;36m, line \u001b[0;32m1\u001b[0m\n\u001b[0;31m    1 = 0\u001b[0m\n\u001b[0m         ^\u001b[0m\n\u001b[0;31mSyntaxError\u001b[0m\u001b[0;31m:\u001b[0m can't assign to literal\n"
     ]
    }
   ],
   "source": [
    "1 = 0"
   ]
  },
  {
   "cell_type": "markdown",
   "metadata": {},
   "source": [
    "<p style='direction:rtl;text-align:justify;font-family:\"B zar\";font-size:16pt;line-height:1.3.pt'>\n",
    "حواستان باشد که \n",
    "<code>==</code> \n",
    "یک علمگرد \n",
    "<em>مقایسه‌ای</em> \n",
    "است، در حالی که \n",
    "<code>=</code> \n",
    "عملگر \n",
    "<em>انتساب</em> \n",
    "است.\n",
    "</p>"
   ]
  },
  {
   "cell_type": "markdown",
   "metadata": {},
   "source": [
    "<h3 style='direction:rtl;text-align:justify;font-family:\"B zar\";font-size:16pt;line-height:1.3.pt'>\n",
    "عدم تساوی\n",
    "</h3>"
   ]
  },
  {
   "cell_type": "code",
   "execution_count": 4,
   "metadata": {},
   "outputs": [
    {
     "data": {
      "text/plain": [
       "True"
      ]
     },
     "execution_count": 4,
     "metadata": {},
     "output_type": "execute_result"
    }
   ],
   "source": [
    "2 != 1"
   ]
  },
  {
   "cell_type": "code",
   "execution_count": 5,
   "metadata": {},
   "outputs": [
    {
     "data": {
      "text/plain": [
       "False"
      ]
     },
     "execution_count": 5,
     "metadata": {},
     "output_type": "execute_result"
    }
   ],
   "source": [
    "2 != 2"
   ]
  },
  {
   "cell_type": "markdown",
   "metadata": {},
   "source": [
    "<h4 style='direction:rtl;text-align:justify;font-family:\"B zar\";font-size:16pt;line-height:1.3.pt'>\n",
    "بزرگتر از\n",
    "</h4>"
   ]
  },
  {
   "cell_type": "code",
   "execution_count": 5,
   "metadata": {},
   "outputs": [
    {
     "data": {
      "text/plain": [
       "True"
      ]
     },
     "execution_count": 5,
     "metadata": {},
     "output_type": "execute_result"
    }
   ],
   "source": [
    "2 > 1"
   ]
  },
  {
   "cell_type": "code",
   "execution_count": 6,
   "metadata": {},
   "outputs": [
    {
     "data": {
      "text/plain": [
       "False"
      ]
     },
     "execution_count": 6,
     "metadata": {},
     "output_type": "execute_result"
    }
   ],
   "source": [
    "2 > 4"
   ]
  },
  {
   "cell_type": "markdown",
   "metadata": {},
   "source": [
    "<h4 style='direction:rtl;text-align:justify;font-family:\"B zar\";font-size:16pt;line-height:1.3.pt'>\n",
    "کمتر از\n",
    "</h4>"
   ]
  },
  {
   "cell_type": "code",
   "execution_count": 7,
   "metadata": {},
   "outputs": [
    {
     "data": {
      "text/plain": [
       "True"
      ]
     },
     "execution_count": 7,
     "metadata": {},
     "output_type": "execute_result"
    }
   ],
   "source": [
    "2 < 4"
   ]
  },
  {
   "cell_type": "code",
   "execution_count": 8,
   "metadata": {},
   "outputs": [
    {
     "data": {
      "text/plain": [
       "False"
      ]
     },
     "execution_count": 8,
     "metadata": {},
     "output_type": "execute_result"
    }
   ],
   "source": [
    "2 < 1"
   ]
  },
  {
   "cell_type": "markdown",
   "metadata": {},
   "source": [
    "<h4 style='direction:rtl;text-align:justify;font-family:\"B zar\";font-size:16pt;line-height:1.3.pt'>\n",
    "بزرگتر از یا مساوی با\n",
    "</h4>"
   ]
  },
  {
   "cell_type": "code",
   "execution_count": 9,
   "metadata": {},
   "outputs": [
    {
     "data": {
      "text/plain": [
       "True"
      ]
     },
     "execution_count": 9,
     "metadata": {},
     "output_type": "execute_result"
    }
   ],
   "source": [
    "2 >= 2"
   ]
  },
  {
   "cell_type": "code",
   "execution_count": 10,
   "metadata": {},
   "outputs": [
    {
     "data": {
      "text/plain": [
       "True"
      ]
     },
     "execution_count": 10,
     "metadata": {},
     "output_type": "execute_result"
    }
   ],
   "source": [
    "2 >= 1"
   ]
  },
  {
   "cell_type": "markdown",
   "metadata": {},
   "source": [
    "#### Less than or Equal to\n",
    "<h4 style='direction:rtl;text-align:justify;font-family:\"B zar\";font-size:16pt;line-height:1.3.pt'>\n",
    "کمتر از یا مساوی با\n",
    "</h4>"
   ]
  },
  {
   "cell_type": "code",
   "execution_count": 11,
   "metadata": {},
   "outputs": [
    {
     "data": {
      "text/plain": [
       "True"
      ]
     },
     "execution_count": 11,
     "metadata": {},
     "output_type": "execute_result"
    }
   ],
   "source": [
    "2 <= 2"
   ]
  },
  {
   "cell_type": "code",
   "execution_count": 12,
   "metadata": {},
   "outputs": [
    {
     "data": {
      "text/plain": [
       "True"
      ]
     },
     "execution_count": 12,
     "metadata": {},
     "output_type": "execute_result"
    }
   ],
   "source": [
    "2 <= 4"
   ]
  },
  {
   "cell_type": "markdown",
   "metadata": {},
   "source": [
    "<p style='direction:rtl;text-align:justify;font-family:\"B zar\";font-size:14pt;line-height:1.3.pt'>\n",
    "<b>\n",
    "خیلی هم خوب! مطمئن شوید که هر کدام از این عملگرها را به خوبی درک کرده‌اید. البته شاید برایتان خیلی راحت بوده باشد.\n",
    "</b>  \n",
    "</p>\n",
    "<p style='direction:rtl;text-align:justify;font-family:\"B zar\";font-size:14pt;line-height:1.3.pt'>\n",
    "در ادامه زنجیره‌های مقایسه‌ای را بررسی می‌کنیم.\n",
    "</p>"
   ]
  }
 ],
 "metadata": {
  "kernelspec": {
   "display_name": "Python 3",
   "language": "python",
   "name": "python3"
  },
  "language_info": {
   "codemirror_mode": {
    "name": "ipython",
    "version": 3
   },
   "file_extension": ".py",
   "mimetype": "text/x-python",
   "name": "python",
   "nbconvert_exporter": "python",
   "pygments_lexer": "ipython3",
   "version": "3.7.3"
  }
 },
 "nbformat": 4,
 "nbformat_minor": 2
}
